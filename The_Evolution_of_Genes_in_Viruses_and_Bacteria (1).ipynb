{
  "nbformat": 4,
  "nbformat_minor": 0,
  "metadata": {
    "colab": {
      "provenance": []
    },
    "kernelspec": {
      "name": "python3",
      "display_name": "Python 3"
    },
    "accelerator": "GPU"
  },
  "cells": [
    {
      "cell_type": "markdown",
      "source": [],
      "metadata": {
        "id": "RrzGkVuditET"
      }
    },
    {
      "cell_type": "code",
      "source": [
        "!apt-get update\n",
        "!apt-get install openjdk-8-jdk-headless -qq > /dev/null\n",
        "!wget -q http://archive.apache.org/dist/spark/spark-3.1.1/spark-3.1.1-bin-hadoop3.2.tgz\n",
        "!tar xf spark-3.1.1-bin-hadoop3.2.tgz\n",
        "!pip install -q findspark"
      ],
      "metadata": {
        "colab": {
          "base_uri": "https://localhost:8080/"
        },
        "id": "YxspS-qMTyZo",
        "outputId": "38a8c60f-555f-41d3-f46f-efb67a961a79"
      },
      "execution_count": 1,
      "outputs": [
        {
          "output_type": "stream",
          "name": "stdout",
          "text": [
            "\r0% [Working]\r            \rGet:1 https://cloud.r-project.org/bin/linux/ubuntu bionic-cran40/ InRelease [3,626 B]\n",
            "\r0% [Connecting to archive.ubuntu.com (91.189.91.38)] [Connecting to security.ub\r0% [Connecting to archive.ubuntu.com (91.189.91.38)] [Connecting to security.ub\r0% [1 InRelease gpgv 3,626 B] [Waiting for headers] [Waiting for headers] [Wait\r                                                                               \rIgn:2 https://developer.download.nvidia.com/compute/machine-learning/repos/ubuntu1804/x86_64  InRelease\n",
            "\r0% [1 InRelease gpgv 3,626 B] [Waiting for headers] [Waiting for headers] [Wait\r                                                                               \rHit:3 https://developer.download.nvidia.com/compute/cuda/repos/ubuntu1804/x86_64  InRelease\n",
            "\r0% [1 InRelease gpgv 3,626 B] [Waiting for headers] [Waiting for headers] [Conn\r                                                                               \rHit:4 http://archive.ubuntu.com/ubuntu bionic InRelease\n",
            "\r0% [1 InRelease gpgv 3,626 B] [Waiting for headers] [Waiting for headers] [Wait\r                                                                               \rGet:5 http://security.ubuntu.com/ubuntu bionic-security InRelease [88.7 kB]\n",
            "Hit:6 https://developer.download.nvidia.com/compute/machine-learning/repos/ubuntu1804/x86_64  Release\n",
            "Get:7 http://archive.ubuntu.com/ubuntu bionic-updates InRelease [88.7 kB]\n",
            "Hit:8 http://ppa.launchpad.net/c2d4u.team/c2d4u4.0+/ubuntu bionic InRelease\n",
            "Get:9 http://archive.ubuntu.com/ubuntu bionic-backports InRelease [83.3 kB]\n",
            "Hit:10 http://ppa.launchpad.net/cran/libgit2/ubuntu bionic InRelease\n",
            "Hit:12 http://ppa.launchpad.net/deadsnakes/ppa/ubuntu bionic InRelease\n",
            "Get:13 http://ppa.launchpad.net/graphics-drivers/ppa/ubuntu bionic InRelease [21.3 kB]\n",
            "Get:14 http://security.ubuntu.com/ubuntu bionic-security/multiverse amd64 Packages [22.9 kB]\n",
            "Get:15 http://security.ubuntu.com/ubuntu bionic-security/restricted amd64 Packages [1,307 kB]\n",
            "Get:16 http://archive.ubuntu.com/ubuntu bionic-updates/restricted amd64 Packages [1,348 kB]\n",
            "Get:17 http://archive.ubuntu.com/ubuntu bionic-updates/main amd64 Packages [3,519 kB]\n",
            "Get:18 http://archive.ubuntu.com/ubuntu bionic-updates/multiverse amd64 Packages [30.0 kB]\n",
            "Get:19 http://ppa.launchpad.net/graphics-drivers/ppa/ubuntu bionic/main amd64 Packages [40.8 kB]\n",
            "Fetched 6,552 kB in 3s (2,168 kB/s)\n",
            "Reading package lists... Done\n"
          ]
        }
      ]
    },
    {
      "cell_type": "code",
      "source": [
        "import os\n",
        "os.environ[\"JAVA_HOME\"] = \"/usr/lib/jvm/java-8-openjdk-amd64\"\n",
        "os.environ[\"SPARK_HOME\"] = \"/content/spark-3.1.1-bin-hadoop3.2\"\n",
        "import findspark\n",
        "findspark.init()"
      ],
      "metadata": {
        "id": "zIYKQCjxVGFM"
      },
      "execution_count": 2,
      "outputs": []
    },
    {
      "cell_type": "code",
      "source": [
        "from pyspark.sql import SparkSession"
      ],
      "metadata": {
        "id": "NjGwcAGFT_dV"
      },
      "execution_count": 3,
      "outputs": []
    },
    {
      "cell_type": "code",
      "source": [
        "spark = SparkSession.builder.appName(\"The_Evolution_of_Genes_in_Viruses_and_Bacteria\").getOrCreate()"
      ],
      "metadata": {
        "id": "3Et-TytQWQ9s"
      },
      "execution_count": 4,
      "outputs": []
    },
    {
      "cell_type": "code",
      "source": [
        "df = spark.read.csv(\"/content/NCBI_Escherichia_coli_genomes.csv\", header=True, inferSchema=True)"
      ],
      "metadata": {
        "id": "Yx2ivsEYWqr5"
      },
      "execution_count": 5,
      "outputs": []
    },
    {
      "cell_type": "code",
      "source": [
        "df.show(2)"
      ],
      "metadata": {
        "colab": {
          "base_uri": "https://localhost:8080/"
        },
        "id": "BJUfxPKaXICQ",
        "outputId": "07259564-1279-42eb-b492-1cfe500d6e62"
      },
      "execution_count": 6,
      "outputs": [
        {
          "output_type": "stream",
          "name": "stdout",
          "text": [
            "+----------------+--------------------+--------+------------+----------+---------------+--------+--------+----+---------+------+---------+----+-------------------+--------------------+--------------------+\n",
            "|  #Organism Name|     Organism Groups|  Strain|   BioSample|BioProject|       Assembly|   Level|Size(Mb)| GC%|Replicons|   WGS|Scaffolds| CDS|       Release Date|         GenBank FTP|          RefSeq FTP|\n",
            "+----------------+--------------------+--------+------------+----------+---------------+--------+--------+----+---------+------+---------+----+-------------------+--------------------+--------------------+\n",
            "|Escherichia coli|Bacteria;Proteoba...| IMT2125|SAMEA2272029|   PRJEB51|GCA_000308975.2|Scaffold| 4.75415|50.7|     null|CAJT01|        1|4266|2012-08-01 00:00:00|ftp://ftp.ncbi.nl...|ftp://ftp.ncbi.nl...|\n",
            "|Escherichia coli|Bacteria;Proteoba...|NCTC9050|SAMEA3376907| PRJEB6403|GCA_900448985.1|  Contig| 5.84429|50.6|     null|UGBX01|        4|5283|2018-07-30 00:00:00|ftp://ftp.ncbi.nl...|ftp://ftp.ncbi.nl...|\n",
            "+----------------+--------------------+--------+------------+----------+---------------+--------+--------+----+---------+------+---------+----+-------------------+--------------------+--------------------+\n",
            "only showing top 2 rows\n",
            "\n"
          ]
        }
      ]
    },
    {
      "cell_type": "code",
      "source": [
        "df.printSchema()"
      ],
      "metadata": {
        "colab": {
          "base_uri": "https://localhost:8080/"
        },
        "id": "uJXQBUfFXwEK",
        "outputId": "4c8ea566-50d2-4c7e-eff8-af9f37ec7240"
      },
      "execution_count": 7,
      "outputs": [
        {
          "output_type": "stream",
          "name": "stdout",
          "text": [
            "root\n",
            " |-- #Organism Name: string (nullable = true)\n",
            " |-- Organism Groups: string (nullable = true)\n",
            " |-- Strain: string (nullable = true)\n",
            " |-- BioSample: string (nullable = true)\n",
            " |-- BioProject: string (nullable = true)\n",
            " |-- Assembly: string (nullable = true)\n",
            " |-- Level: string (nullable = true)\n",
            " |-- Size(Mb): double (nullable = true)\n",
            " |-- GC%: double (nullable = true)\n",
            " |-- Replicons: string (nullable = true)\n",
            " |-- WGS: string (nullable = true)\n",
            " |-- Scaffolds: integer (nullable = true)\n",
            " |-- CDS: integer (nullable = true)\n",
            " |-- Release Date: timestamp (nullable = true)\n",
            " |-- GenBank FTP: string (nullable = true)\n",
            " |-- RefSeq FTP: string (nullable = true)\n",
            "\n"
          ]
        }
      ]
    },
    {
      "cell_type": "code",
      "source": [
        "#Descriptive statistics include those that summarize \n",
        "#the central tendency, dispersion and shape of a dataset’s \n",
        "#distribution, excluding NaN values.\n",
        "df.describe().toPandas()"
      ],
      "metadata": {
        "colab": {
          "base_uri": "https://localhost:8080/",
          "height": 357
        },
        "id": "MIYuwhyeYImc",
        "outputId": "4be2b277-7f72-45e0-ca1d-a59da74233b1"
      },
      "execution_count": 8,
      "outputs": [
        {
          "output_type": "execute_result",
          "data": {
            "text/plain": [
              "  summary                          #Organism Name  \\\n",
              "0   count                                   24008   \n",
              "1    mean                                    None   \n",
              "2  stddev                                    None   \n",
              "3     min                        Escherichia coli   \n",
              "4     max  synthetic Escherichia coli C321.deltaA   \n",
              "\n",
              "                               Organism Groups    Strain     BioSample  \\\n",
              "0                                        24008     23987         24008   \n",
              "1                                         None  Infinity          None   \n",
              "2                                         None       NaN          None   \n",
              "3  Bacteria;Proteobacteria;Gammaproteobacteria    0.1288  SAMD00000764   \n",
              "4  Bacteria;Proteobacteria;Gammaproteobacteria     zlp18  SAMN19493560   \n",
              "\n",
              "   BioProject         Assembly        Level            Size(Mb)  \\\n",
              "0       24008            24008        24008               24008   \n",
              "1        None             None         None   5.125968848717103   \n",
              "2        None             None         None  0.3503236714915195   \n",
              "3  PRJDA19053  GCA_000005845.2   Chromosome            0.104143   \n",
              "4  PRJNA94343  GCA_907275105.1     Scaffold               17.47   \n",
              "\n",
              "                  GC%                                          Replicons  \\\n",
              "0               24008                                               2150   \n",
              "1  50.570196412027684                                               None   \n",
              "2   1.062615829444325                                               None   \n",
              "3                 0.0              chromosome 0:NZ_LR130532.1/LR130532.1   \n",
              "4                58.9  plasmid unnamed:NZ_JAFEKJ000000000.1/JAFEKJ000...   \n",
              "\n",
              "      WGS          Scaffolds                CDS  \\\n",
              "0   22032              24008              24008   \n",
              "1    None  198.0277824058647  4672.334638453849   \n",
              "2    None  285.8886670074898  711.7808094862417   \n",
              "3  AAJT02                  1                  0   \n",
              "4  WXZA01               8122              11884   \n",
              "\n",
              "                                         GenBank FTP  \\\n",
              "0                                              24008   \n",
              "1                                               None   \n",
              "2                                               None   \n",
              "3  ftp://ftp.ncbi.nlm.nih.gov/genomes/all/GCA/000...   \n",
              "4  ftp://ftp.ncbi.nlm.nih.gov/genomes/all/GCA/907...   \n",
              "\n",
              "                                          RefSeq FTP  \n",
              "0                                              23600  \n",
              "1                                               None  \n",
              "2                                               None  \n",
              "3  ftp://ftp.ncbi.nlm.nih.gov/genomes/all/GCF/000...  \n",
              "4  ftp://ftp.ncbi.nlm.nih.gov/genomes/all/GCF/907...  "
            ],
            "text/html": [
              "\n",
              "  <div id=\"df-8106f1b3-d5d7-4dd6-877d-c29ac0de18da\">\n",
              "    <div class=\"colab-df-container\">\n",
              "      <div>\n",
              "<style scoped>\n",
              "    .dataframe tbody tr th:only-of-type {\n",
              "        vertical-align: middle;\n",
              "    }\n",
              "\n",
              "    .dataframe tbody tr th {\n",
              "        vertical-align: top;\n",
              "    }\n",
              "\n",
              "    .dataframe thead th {\n",
              "        text-align: right;\n",
              "    }\n",
              "</style>\n",
              "<table border=\"1\" class=\"dataframe\">\n",
              "  <thead>\n",
              "    <tr style=\"text-align: right;\">\n",
              "      <th></th>\n",
              "      <th>summary</th>\n",
              "      <th>#Organism Name</th>\n",
              "      <th>Organism Groups</th>\n",
              "      <th>Strain</th>\n",
              "      <th>BioSample</th>\n",
              "      <th>BioProject</th>\n",
              "      <th>Assembly</th>\n",
              "      <th>Level</th>\n",
              "      <th>Size(Mb)</th>\n",
              "      <th>GC%</th>\n",
              "      <th>Replicons</th>\n",
              "      <th>WGS</th>\n",
              "      <th>Scaffolds</th>\n",
              "      <th>CDS</th>\n",
              "      <th>GenBank FTP</th>\n",
              "      <th>RefSeq FTP</th>\n",
              "    </tr>\n",
              "  </thead>\n",
              "  <tbody>\n",
              "    <tr>\n",
              "      <th>0</th>\n",
              "      <td>count</td>\n",
              "      <td>24008</td>\n",
              "      <td>24008</td>\n",
              "      <td>23987</td>\n",
              "      <td>24008</td>\n",
              "      <td>24008</td>\n",
              "      <td>24008</td>\n",
              "      <td>24008</td>\n",
              "      <td>24008</td>\n",
              "      <td>24008</td>\n",
              "      <td>2150</td>\n",
              "      <td>22032</td>\n",
              "      <td>24008</td>\n",
              "      <td>24008</td>\n",
              "      <td>24008</td>\n",
              "      <td>23600</td>\n",
              "    </tr>\n",
              "    <tr>\n",
              "      <th>1</th>\n",
              "      <td>mean</td>\n",
              "      <td>None</td>\n",
              "      <td>None</td>\n",
              "      <td>Infinity</td>\n",
              "      <td>None</td>\n",
              "      <td>None</td>\n",
              "      <td>None</td>\n",
              "      <td>None</td>\n",
              "      <td>5.125968848717103</td>\n",
              "      <td>50.570196412027684</td>\n",
              "      <td>None</td>\n",
              "      <td>None</td>\n",
              "      <td>198.0277824058647</td>\n",
              "      <td>4672.334638453849</td>\n",
              "      <td>None</td>\n",
              "      <td>None</td>\n",
              "    </tr>\n",
              "    <tr>\n",
              "      <th>2</th>\n",
              "      <td>stddev</td>\n",
              "      <td>None</td>\n",
              "      <td>None</td>\n",
              "      <td>NaN</td>\n",
              "      <td>None</td>\n",
              "      <td>None</td>\n",
              "      <td>None</td>\n",
              "      <td>None</td>\n",
              "      <td>0.3503236714915195</td>\n",
              "      <td>1.062615829444325</td>\n",
              "      <td>None</td>\n",
              "      <td>None</td>\n",
              "      <td>285.8886670074898</td>\n",
              "      <td>711.7808094862417</td>\n",
              "      <td>None</td>\n",
              "      <td>None</td>\n",
              "    </tr>\n",
              "    <tr>\n",
              "      <th>3</th>\n",
              "      <td>min</td>\n",
              "      <td>Escherichia coli</td>\n",
              "      <td>Bacteria;Proteobacteria;Gammaproteobacteria</td>\n",
              "      <td>0.1288</td>\n",
              "      <td>SAMD00000764</td>\n",
              "      <td>PRJDA19053</td>\n",
              "      <td>GCA_000005845.2</td>\n",
              "      <td>Chromosome</td>\n",
              "      <td>0.104143</td>\n",
              "      <td>0.0</td>\n",
              "      <td>chromosome 0:NZ_LR130532.1/LR130532.1</td>\n",
              "      <td>AAJT02</td>\n",
              "      <td>1</td>\n",
              "      <td>0</td>\n",
              "      <td>ftp://ftp.ncbi.nlm.nih.gov/genomes/all/GCA/000...</td>\n",
              "      <td>ftp://ftp.ncbi.nlm.nih.gov/genomes/all/GCF/000...</td>\n",
              "    </tr>\n",
              "    <tr>\n",
              "      <th>4</th>\n",
              "      <td>max</td>\n",
              "      <td>synthetic Escherichia coli C321.deltaA</td>\n",
              "      <td>Bacteria;Proteobacteria;Gammaproteobacteria</td>\n",
              "      <td>zlp18</td>\n",
              "      <td>SAMN19493560</td>\n",
              "      <td>PRJNA94343</td>\n",
              "      <td>GCA_907275105.1</td>\n",
              "      <td>Scaffold</td>\n",
              "      <td>17.47</td>\n",
              "      <td>58.9</td>\n",
              "      <td>plasmid unnamed:NZ_JAFEKJ000000000.1/JAFEKJ000...</td>\n",
              "      <td>WXZA01</td>\n",
              "      <td>8122</td>\n",
              "      <td>11884</td>\n",
              "      <td>ftp://ftp.ncbi.nlm.nih.gov/genomes/all/GCA/907...</td>\n",
              "      <td>ftp://ftp.ncbi.nlm.nih.gov/genomes/all/GCF/907...</td>\n",
              "    </tr>\n",
              "  </tbody>\n",
              "</table>\n",
              "</div>\n",
              "      <button class=\"colab-df-convert\" onclick=\"convertToInteractive('df-8106f1b3-d5d7-4dd6-877d-c29ac0de18da')\"\n",
              "              title=\"Convert this dataframe to an interactive table.\"\n",
              "              style=\"display:none;\">\n",
              "        \n",
              "  <svg xmlns=\"http://www.w3.org/2000/svg\" height=\"24px\"viewBox=\"0 0 24 24\"\n",
              "       width=\"24px\">\n",
              "    <path d=\"M0 0h24v24H0V0z\" fill=\"none\"/>\n",
              "    <path d=\"M18.56 5.44l.94 2.06.94-2.06 2.06-.94-2.06-.94-.94-2.06-.94 2.06-2.06.94zm-11 1L8.5 8.5l.94-2.06 2.06-.94-2.06-.94L8.5 2.5l-.94 2.06-2.06.94zm10 10l.94 2.06.94-2.06 2.06-.94-2.06-.94-.94-2.06-.94 2.06-2.06.94z\"/><path d=\"M17.41 7.96l-1.37-1.37c-.4-.4-.92-.59-1.43-.59-.52 0-1.04.2-1.43.59L10.3 9.45l-7.72 7.72c-.78.78-.78 2.05 0 2.83L4 21.41c.39.39.9.59 1.41.59.51 0 1.02-.2 1.41-.59l7.78-7.78 2.81-2.81c.8-.78.8-2.07 0-2.86zM5.41 20L4 18.59l7.72-7.72 1.47 1.35L5.41 20z\"/>\n",
              "  </svg>\n",
              "      </button>\n",
              "      \n",
              "  <style>\n",
              "    .colab-df-container {\n",
              "      display:flex;\n",
              "      flex-wrap:wrap;\n",
              "      gap: 12px;\n",
              "    }\n",
              "\n",
              "    .colab-df-convert {\n",
              "      background-color: #E8F0FE;\n",
              "      border: none;\n",
              "      border-radius: 50%;\n",
              "      cursor: pointer;\n",
              "      display: none;\n",
              "      fill: #1967D2;\n",
              "      height: 32px;\n",
              "      padding: 0 0 0 0;\n",
              "      width: 32px;\n",
              "    }\n",
              "\n",
              "    .colab-df-convert:hover {\n",
              "      background-color: #E2EBFA;\n",
              "      box-shadow: 0px 1px 2px rgba(60, 64, 67, 0.3), 0px 1px 3px 1px rgba(60, 64, 67, 0.15);\n",
              "      fill: #174EA6;\n",
              "    }\n",
              "\n",
              "    [theme=dark] .colab-df-convert {\n",
              "      background-color: #3B4455;\n",
              "      fill: #D2E3FC;\n",
              "    }\n",
              "\n",
              "    [theme=dark] .colab-df-convert:hover {\n",
              "      background-color: #434B5C;\n",
              "      box-shadow: 0px 1px 3px 1px rgba(0, 0, 0, 0.15);\n",
              "      filter: drop-shadow(0px 1px 2px rgba(0, 0, 0, 0.3));\n",
              "      fill: #FFFFFF;\n",
              "    }\n",
              "  </style>\n",
              "\n",
              "      <script>\n",
              "        const buttonEl =\n",
              "          document.querySelector('#df-8106f1b3-d5d7-4dd6-877d-c29ac0de18da button.colab-df-convert');\n",
              "        buttonEl.style.display =\n",
              "          google.colab.kernel.accessAllowed ? 'block' : 'none';\n",
              "\n",
              "        async function convertToInteractive(key) {\n",
              "          const element = document.querySelector('#df-8106f1b3-d5d7-4dd6-877d-c29ac0de18da');\n",
              "          const dataTable =\n",
              "            await google.colab.kernel.invokeFunction('convertToInteractive',\n",
              "                                                     [key], {});\n",
              "          if (!dataTable) return;\n",
              "\n",
              "          const docLinkHtml = 'Like what you see? Visit the ' +\n",
              "            '<a target=\"_blank\" href=https://colab.research.google.com/notebooks/data_table.ipynb>data table notebook</a>'\n",
              "            + ' to learn more about interactive tables.';\n",
              "          element.innerHTML = '';\n",
              "          dataTable['output_type'] = 'display_data';\n",
              "          await google.colab.output.renderOutput(dataTable, element);\n",
              "          const docLink = document.createElement('div');\n",
              "          docLink.innerHTML = docLinkHtml;\n",
              "          element.appendChild(docLink);\n",
              "        }\n",
              "      </script>\n",
              "    </div>\n",
              "  </div>\n",
              "  "
            ]
          },
          "metadata": {},
          "execution_count": 8
        }
      ]
    },
    {
      "cell_type": "code",
      "source": [
        "#Unction is used to collect the identical data into groups \n",
        "#and perform aggregate functions like size/count on the grouped data\n",
        "df.groupBy('RefSeq FTP').count().show()"
      ],
      "metadata": {
        "colab": {
          "base_uri": "https://localhost:8080/"
        },
        "id": "-lu5-pYkY0l7",
        "outputId": "55eb070d-7435-44c0-a1be-21f19900495a"
      },
      "execution_count": 9,
      "outputs": [
        {
          "output_type": "stream",
          "name": "stdout",
          "text": [
            "+--------------------+-----+\n",
            "|          RefSeq FTP|count|\n",
            "+--------------------+-----+\n",
            "|ftp://ftp.ncbi.nl...|    1|\n",
            "|ftp://ftp.ncbi.nl...|    1|\n",
            "|ftp://ftp.ncbi.nl...|    1|\n",
            "|ftp://ftp.ncbi.nl...|    1|\n",
            "|ftp://ftp.ncbi.nl...|    1|\n",
            "|ftp://ftp.ncbi.nl...|    1|\n",
            "|ftp://ftp.ncbi.nl...|    1|\n",
            "|ftp://ftp.ncbi.nl...|    1|\n",
            "|ftp://ftp.ncbi.nl...|    1|\n",
            "|ftp://ftp.ncbi.nl...|    1|\n",
            "|ftp://ftp.ncbi.nl...|    1|\n",
            "|ftp://ftp.ncbi.nl...|    1|\n",
            "|ftp://ftp.ncbi.nl...|    1|\n",
            "|ftp://ftp.ncbi.nl...|    1|\n",
            "|ftp://ftp.ncbi.nl...|    1|\n",
            "|ftp://ftp.ncbi.nl...|    1|\n",
            "|ftp://ftp.ncbi.nl...|    1|\n",
            "|ftp://ftp.ncbi.nl...|    1|\n",
            "|ftp://ftp.ncbi.nl...|    1|\n",
            "|ftp://ftp.ncbi.nl...|    1|\n",
            "+--------------------+-----+\n",
            "only showing top 20 rows\n",
            "\n"
          ]
        }
      ]
    },
    {
      "cell_type": "code",
      "source": [
        "df.groupBy('Replicons').count().show()"
      ],
      "metadata": {
        "colab": {
          "base_uri": "https://localhost:8080/"
        },
        "id": "H_jAPf2SY3jV",
        "outputId": "03ccaf4b-66a6-4a1b-ab5d-59210adaef54"
      },
      "execution_count": 10,
      "outputs": [
        {
          "output_type": "stream",
          "name": "stdout",
          "text": [
            "+--------------------+-----+\n",
            "|           Replicons|count|\n",
            "+--------------------+-----+\n",
            "|chromosome:NZ_CP0...|    1|\n",
            "|chromosome:NZ_CP0...|    1|\n",
            "|chromosome:NZ_CP0...|    1|\n",
            "|chromosome:NC_012...|    1|\n",
            "|plasmid URMC_95_p...|    1|\n",
            "|chromosome:CP0121...|    1|\n",
            "|chromosome:NZ_CP0...|    1|\n",
            "|chromosome 1:NZ_L...|    1|\n",
            "|chromosome:NZ_CP0...|    1|\n",
            "|chromosome:NZ_CP0...|    1|\n",
            "|chromosome:NC_002...|    1|\n",
            "|chromosome:NZ_CP0...|    1|\n",
            "|chromosome:NZ_CP0...|    1|\n",
            "|chromosome:NZ_CP0...|    1|\n",
            "|plasmid URMC_3_p_...|    1|\n",
            "|chromosome HB37:N...|    1|\n",
            "|chromosome:NZ_CP0...|    1|\n",
            "|chromosome:NZ_CP0...|    1|\n",
            "|plasmid pFHI_NMBU...|    1|\n",
            "|chromosome:NZ_CP0...|    1|\n",
            "+--------------------+-----+\n",
            "only showing top 20 rows\n",
            "\n"
          ]
        }
      ]
    },
    {
      "cell_type": "code",
      "source": [
        "df.groupBy('Strain').count().show()"
      ],
      "metadata": {
        "colab": {
          "base_uri": "https://localhost:8080/"
        },
        "id": "GTfBuqQRZyHa",
        "outputId": "eb951d1e-bced-48da-fe21-dddb43db62ed"
      },
      "execution_count": 11,
      "outputs": [
        {
          "output_type": "stream",
          "name": "stdout",
          "text": [
            "+----------------+-----+\n",
            "|          Strain|count|\n",
            "+----------------+-----+\n",
            "|          ESBL13|    1|\n",
            "|     E.coli C158|    1|\n",
            "|            17-2|    1|\n",
            "|     2016-02-418|    1|\n",
            "|         UMB0727|    1|\n",
            "|         GZB8C4M|    1|\n",
            "|         UMB6713|    1|\n",
            "|        VREC0516|    1|\n",
            "|           45300|    1|\n",
            "|        GMC10974|    1|\n",
            "|           Ec004|    1|\n",
            "|           F2_99|    1|\n",
            "|           1232a|    1|\n",
            "|Broiler parent55|    1|\n",
            "|            L172|    1|\n",
            "|   46_Esco_HA-DE|    1|\n",
            "|           EC482|    1|\n",
            "|            F2_3|    1|\n",
            "|         18FS1-2|    1|\n",
            "|     MOD1-EC6197|    1|\n",
            "+----------------+-----+\n",
            "only showing top 20 rows\n",
            "\n"
          ]
        }
      ]
    },
    {
      "cell_type": "code",
      "source": [
        "import matplotlib.pyplot as plt\n",
        "import seaborn as sns"
      ],
      "metadata": {
        "id": "pE8QQFlxaI7E"
      },
      "execution_count": 12,
      "outputs": []
    },
    {
      "cell_type": "code",
      "source": [
        "fig = plt.figure(figsize=(25, 15))\n",
        "st = fig.suptitle(\"SIZE(MB),GC%, SCAFFOLDS,CDS\", fontsize=50, verticalalignment=\"center\")\n",
        "for col , num in zip(df.toPandas().describe().columns, range(1,11)):\n",
        "     ax = fig.add_subplot(3,4,num)\n",
        "     ax.hist(df.toPandas()[col])\n",
        "     plt.grid(False)\n",
        "     plt.xticks(rotation=45, fontsize=20)\n",
        "     plt.yticks(fontsize=15)\n",
        "     plt.title(col.upper(), fontsize=20)\n",
        "plt.tight_layout()\n",
        "st.set_y(0.95)\n",
        "fig.subplots_adjust(top=0.85, hspace=0.4)\n",
        "plt.show()"
      ],
      "metadata": {
        "colab": {
          "base_uri": "https://localhost:8080/",
          "height": 269
        },
        "id": "Bw6J25jvaf_5",
        "outputId": "4f5f6cdc-a531-4b14-9ef7-d1b06fbe2c7f"
      },
      "execution_count": 13,
      "outputs": [
        {
          "output_type": "display_data",
          "data": {
            "text/plain": [
              "<Figure size 1800x1080 with 4 Axes>"
            ],
            "image/png": "[encoded data removed]"
          },
          "metadata": {
            "needs_background": "light"
          }
        }
      ]
    },
    {
      "cell_type": "code",
      "source": [
        "from pyspark.sql.functions import lit\n",
        "df = df.withColumn('first_column',lit(1))\n",
        "\n",
        "df.show(5,truncate=False)"
      ],
      "metadata": {
        "colab": {
          "base_uri": "https://localhost:8080/"
        },
        "id": "AOsI76eipsbu",
        "outputId": "75ced5b2-4867-451d-a098-97505192fe92"
      },
      "execution_count": 14,
      "outputs": [
        {
          "output_type": "stream",
          "name": "stdout",
          "text": [
            "+----------------+-------------------------------------------+------------+------------+-----------+---------------+--------+--------+----+---------+------+---------+----+-------------------+----------------------------------------------------------------------------------+----------------------------------------------------------------------------------+------------+\n",
            "|#Organism Name  |Organism Groups                            |Strain      |BioSample   |BioProject |Assembly       |Level   |Size(Mb)|GC% |Replicons|WGS   |Scaffolds|CDS |Release Date       |GenBank FTP                                                                       |RefSeq FTP                                                                        |first_column|\n",
            "+----------------+-------------------------------------------+------------+------------+-----------+---------------+--------+--------+----+---------+------+---------+----+-------------------+----------------------------------------------------------------------------------+----------------------------------------------------------------------------------+------------+\n",
            "|Escherichia coli|Bacteria;Proteobacteria;Gammaproteobacteria|IMT2125     |SAMEA2272029|PRJEB51    |GCA_000308975.2|Scaffold|4.75415 |50.7|null     |CAJT01|1        |4266|2012-08-01 00:00:00|ftp://ftp.ncbi.nlm.nih.gov/genomes/all/GCA/000/308/975/GCA_000308975.2_ASM30897v2 |ftp://ftp.ncbi.nlm.nih.gov/genomes/all/GCF/000/308/975/GCF_000308975.1_ASM30897v2 |1           |\n",
            "|Escherichia coli|Bacteria;Proteobacteria;Gammaproteobacteria|NCTC9050    |SAMEA3376907|PRJEB6403  |GCA_900448985.1|Contig  |5.84429 |50.6|null     |UGBX01|4        |5283|2018-07-30 00:00:00|ftp://ftp.ncbi.nlm.nih.gov/genomes/all/GCA/900/448/985/GCA_900448985.1_38490_E02  |ftp://ftp.ncbi.nlm.nih.gov/genomes/all/GCF/900/448/985/GCF_900448985.1_38490_E02  |1           |\n",
            "|Escherichia coli|Bacteria;Proteobacteria;Gammaproteobacteria|NCTC9026    |SAMEA3368324|PRJEB6403  |GCA_900448875.1|Contig  |5.69529 |50.6|null     |UGAL01|2        |5246|2018-07-30 00:00:00|ftp://ftp.ncbi.nlm.nih.gov/genomes/all/GCA/900/448/875/GCA_900448875.1_38389_F01  |ftp://ftp.ncbi.nlm.nih.gov/genomes/all/GCF/900/448/875/GCF_900448875.1_38389_F01  |1           |\n",
            "|Escherichia coli|Bacteria;Proteobacteria;Gammaproteobacteria|FDAARGOS_398|SAMN07312442|PRJNA231221|GCA_002554475.1|Contig  |5.67685 |50.4|null     |PDED01|4        |5210|2017-10-16 00:00:00|ftp://ftp.ncbi.nlm.nih.gov/genomes/all/GCA/002/554/475/GCA_002554475.1_ASM255447v1|ftp://ftp.ncbi.nlm.nih.gov/genomes/all/GCF/002/554/475/GCF_002554475.1_ASM255447v1|1           |\n",
            "|Escherichia coli|Bacteria;Proteobacteria;Gammaproteobacteria|FDAARGOS_399|SAMN07312443|PRJNA231221|GCA_002554675.1|Contig  |5.6334  |50.5|null     |PDEK01|3        |5187|2017-10-16 00:00:00|ftp://ftp.ncbi.nlm.nih.gov/genomes/all/GCA/002/554/675/GCA_002554675.1_ASM255467v1|ftp://ftp.ncbi.nlm.nih.gov/genomes/all/GCF/002/554/675/GCF_002554675.1_ASM255467v1|1           |\n",
            "+----------------+-------------------------------------------+------------+------------+-----------+---------------+--------+--------+----+---------+------+---------+----+-------------------+----------------------------------------------------------------------------------+----------------------------------------------------------------------------------+------------+\n",
            "only showing top 5 rows\n",
            "\n"
          ]
        }
      ]
    },
    {
      "cell_type": "code",
      "source": [
        "df = df.withColumn('second_column', lit(2)) \\\n",
        "      .withColumn('third_column', lit('Third Column'))\n",
        "df.show(5,truncate=False)"
      ],
      "metadata": {
        "colab": {
          "base_uri": "https://localhost:8080/"
        },
        "id": "t1arZcGQqAtI",
        "outputId": "f6edd27c-588f-4efe-d88f-2222d57960df"
      },
      "execution_count": 15,
      "outputs": [
        {
          "output_type": "stream",
          "name": "stdout",
          "text": [
            "+----------------+-------------------------------------------+------------+------------+-----------+---------------+--------+--------+----+---------+------+---------+----+-------------------+----------------------------------------------------------------------------------+----------------------------------------------------------------------------------+------------+-------------+------------+\n",
            "|#Organism Name  |Organism Groups                            |Strain      |BioSample   |BioProject |Assembly       |Level   |Size(Mb)|GC% |Replicons|WGS   |Scaffolds|CDS |Release Date       |GenBank FTP                                                                       |RefSeq FTP                                                                        |first_column|second_column|third_column|\n",
            "+----------------+-------------------------------------------+------------+------------+-----------+---------------+--------+--------+----+---------+------+---------+----+-------------------+----------------------------------------------------------------------------------+----------------------------------------------------------------------------------+------------+-------------+------------+\n",
            "|Escherichia coli|Bacteria;Proteobacteria;Gammaproteobacteria|IMT2125     |SAMEA2272029|PRJEB51    |GCA_000308975.2|Scaffold|4.75415 |50.7|null     |CAJT01|1        |4266|2012-08-01 00:00:00|ftp://ftp.ncbi.nlm.nih.gov/genomes/all/GCA/000/308/975/GCA_000308975.2_ASM30897v2 |ftp://ftp.ncbi.nlm.nih.gov/genomes/all/GCF/000/308/975/GCF_000308975.1_ASM30897v2 |1           |2            |Third Column|\n",
            "|Escherichia coli|Bacteria;Proteobacteria;Gammaproteobacteria|NCTC9050    |SAMEA3376907|PRJEB6403  |GCA_900448985.1|Contig  |5.84429 |50.6|null     |UGBX01|4        |5283|2018-07-30 00:00:00|ftp://ftp.ncbi.nlm.nih.gov/genomes/all/GCA/900/448/985/GCA_900448985.1_38490_E02  |ftp://ftp.ncbi.nlm.nih.gov/genomes/all/GCF/900/448/985/GCF_900448985.1_38490_E02  |1           |2            |Third Column|\n",
            "|Escherichia coli|Bacteria;Proteobacteria;Gammaproteobacteria|NCTC9026    |SAMEA3368324|PRJEB6403  |GCA_900448875.1|Contig  |5.69529 |50.6|null     |UGAL01|2        |5246|2018-07-30 00:00:00|ftp://ftp.ncbi.nlm.nih.gov/genomes/all/GCA/900/448/875/GCA_900448875.1_38389_F01  |ftp://ftp.ncbi.nlm.nih.gov/genomes/all/GCF/900/448/875/GCF_900448875.1_38389_F01  |1           |2            |Third Column|\n",
            "|Escherichia coli|Bacteria;Proteobacteria;Gammaproteobacteria|FDAARGOS_398|SAMN07312442|PRJNA231221|GCA_002554475.1|Contig  |5.67685 |50.4|null     |PDED01|4        |5210|2017-10-16 00:00:00|ftp://ftp.ncbi.nlm.nih.gov/genomes/all/GCA/002/554/475/GCA_002554475.1_ASM255447v1|ftp://ftp.ncbi.nlm.nih.gov/genomes/all/GCF/002/554/475/GCF_002554475.1_ASM255447v1|1           |2            |Third Column|\n",
            "|Escherichia coli|Bacteria;Proteobacteria;Gammaproteobacteria|FDAARGOS_399|SAMN07312443|PRJNA231221|GCA_002554675.1|Contig  |5.6334  |50.5|null     |PDEK01|3        |5187|2017-10-16 00:00:00|ftp://ftp.ncbi.nlm.nih.gov/genomes/all/GCA/002/554/675/GCA_002554675.1_ASM255467v1|ftp://ftp.ncbi.nlm.nih.gov/genomes/all/GCF/002/554/675/GCF_002554675.1_ASM255467v1|1           |2            |Third Column|\n",
            "+----------------+-------------------------------------------+------------+------------+-----------+---------------+--------+--------+----+---------+------+---------+----+-------------------+----------------------------------------------------------------------------------+----------------------------------------------------------------------------------+------------+-------------+------------+\n",
            "only showing top 5 rows\n",
            "\n"
          ]
        }
      ]
    },
    {
      "cell_type": "code",
      "source": [
        "df = spark.read.csv(\"/content/read_manifest.csv\", header=True, inferSchema=True)\n",
        "df.show(10)"
      ],
      "metadata": {
        "colab": {
          "base_uri": "https://localhost:8080/"
        },
        "id": "4kW2ZXMsxICe",
        "outputId": "ef90e4b8-dbf3-4afa-97af-59efbc17236e"
      },
      "execution_count": 16,
      "outputs": [
        {
          "output_type": "stream",
          "name": "stdout",
          "text": [
            "+-------------+-----+\n",
            "|     specimen|GROUP|\n",
            "+-------------+-----+\n",
            "|SRR19177897_1|    0|\n",
            "|SRR19177897_2|    0|\n",
            "|SRR19178189_1|    1|\n",
            "|SRR19178189_2|    1|\n",
            "+-------------+-----+\n",
            "\n"
          ]
        }
      ]
    },
    {
      "cell_type": "code",
      "source": [
        "from pyspark.sql.functions import isnan,when, count , col"
      ],
      "metadata": {
        "id": "BYc6oG_Fsaab"
      },
      "execution_count": 17,
      "outputs": []
    },
    {
      "cell_type": "code",
      "source": [
        "df.select([count(when(isnan(c),c)).alias(c) for c in df.columns]).head()"
      ],
      "metadata": {
        "colab": {
          "base_uri": "https://localhost:8080/"
        },
        "id": "AlHAJ55NsyRH",
        "outputId": "9876c019-e57e-4d8e-8935-e1220533bd54"
      },
      "execution_count": 18,
      "outputs": [
        {
          "output_type": "execute_result",
          "data": {
            "text/plain": [
              "Row(specimen=0, GROUP=0)"
            ]
          },
          "metadata": {},
          "execution_count": 18
        }
      ]
    },
    {
      "cell_type": "code",
      "source": [
        "from pyspark.sql.functions import udf\n",
        "from pyspark.sql.types import StringType"
      ],
      "metadata": {
        "id": "pJK28dkvuFNp"
      },
      "execution_count": 19,
      "outputs": []
    },
    {
      "cell_type": "code",
      "source": [
        "y_udf = udf(lambda y: \"no\" if y == 0 else \"yes\", StringType())"
      ],
      "metadata": {
        "id": "oXl285OJucWZ"
      },
      "execution_count": 20,
      "outputs": []
    },
    {
      "cell_type": "code",
      "source": [
        "df.show(5)"
      ],
      "metadata": {
        "colab": {
          "base_uri": "https://localhost:8080/"
        },
        "id": "KH1pg-tdvzUd",
        "outputId": "4c19f966-ce00-4cbd-976c-69634bb2304f"
      },
      "execution_count": 21,
      "outputs": [
        {
          "output_type": "stream",
          "name": "stdout",
          "text": [
            "+-------------+-----+\n",
            "|     specimen|GROUP|\n",
            "+-------------+-----+\n",
            "|SRR19177897_1|    0|\n",
            "|SRR19177897_2|    0|\n",
            "|SRR19178189_1|    1|\n",
            "|SRR19178189_2|    1|\n",
            "+-------------+-----+\n",
            "\n"
          ]
        }
      ]
    },
    {
      "cell_type": "code",
      "source": [
        "def udf_multi(specimen):\n",
        "  if(specimen<4):\n",
        "    return \"Under 4\"\n",
        "  elif (specimen >= 4 and specimen <4):\n",
        "    return \"Between 8 and 9\"\n",
        "  elif (specimen >10 and specimen <15):\n",
        "    return \"Between 16 and 50\"\n",
        "  elif (specimen >= 20):\n",
        "    return \"Over 20\"\n",
        "  else: return \"NA\"\n"
      ],
      "metadata": {
        "id": "J-5K4EjIxWrs"
      },
      "execution_count": 22,
      "outputs": []
    },
    {
      "cell_type": "code",
      "source": [
        "specimen_udf = udf(udf_multi)\n",
        "df = df.withColumn('specimen_udf', specimen_udf('specimen'))"
      ],
      "metadata": {
        "id": "LSkqK7HDzY07"
      },
      "execution_count": 23,
      "outputs": []
    }
  ]
}