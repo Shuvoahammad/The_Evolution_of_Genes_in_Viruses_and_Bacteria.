{
  "nbformat": 4,
  "nbformat_minor": 0,
  "metadata": {
    "colab": {
      "provenance": []
    },
    "kernelspec": {
      "name": "python3",
      "display_name": "Python 3"
    },
    "accelerator": "GPU"
  },
  "cells": [
    {
      "cell_type": "code",
      "source": [
        "!apt-get update\n",
        "!apt-get install openjdk-8-jdk-headless -qq > /dev/null\n",
        "!wget -q http://archive.apache.org/dist/spark/spark-3.1.1/spark-3.1.1-bin-hadoop3.2.tgz\n",
        "!tar xf spark-3.1.1-bin-hadoop3.2.tgz\n",
        "!pip install -q findspark"
      ],
      "metadata": {
        "id": "TgZ4BsXRinm3",
        "outputId": "25820f3b-b737-4ee7-ac9d-fb5167509009",
        "colab": {
          "base_uri": "https://localhost:8080/"
        }
      },
      "execution_count": 4,
      "outputs": [
        {
          "output_type": "stream",
          "name": "stdout",
          "text": [
            "\r0% [Working]\r            \rGet:1 https://developer.download.nvidia.com/compute/cuda/repos/ubuntu2004/x86_64  InRelease [1,581 B]\n",
            "Get:2 https://developer.download.nvidia.com/compute/cuda/repos/ubuntu2004/x86_64  Packages [1,084 kB]\n",
            "Get:3 https://cloud.r-project.org/bin/linux/ubuntu focal-cran40/ InRelease [3,622 B]\n",
            "Get:4 http://security.ubuntu.com/ubuntu focal-security InRelease [114 kB]\n",
            "Hit:5 http://ppa.launchpad.net/c2d4u.team/c2d4u4.0+/ubuntu focal InRelease\n",
            "Hit:6 http://archive.ubuntu.com/ubuntu focal InRelease\n",
            "Get:7 http://archive.ubuntu.com/ubuntu focal-updates InRelease [114 kB]\n",
            "Hit:8 http://ppa.launchpad.net/cran/libgit2/ubuntu focal InRelease\n",
            "Hit:9 http://ppa.launchpad.net/deadsnakes/ppa/ubuntu focal InRelease\n",
            "Get:10 http://archive.ubuntu.com/ubuntu focal-backports InRelease [108 kB]\n",
            "Hit:11 http://ppa.launchpad.net/graphics-drivers/ppa/ubuntu focal InRelease\n",
            "Get:12 http://archive.ubuntu.com/ubuntu focal-updates/main amd64 Packages [3,347 kB]\n",
            "Hit:13 http://ppa.launchpad.net/ubuntugis/ppa/ubuntu focal InRelease\n",
            "Get:14 http://archive.ubuntu.com/ubuntu focal-updates/universe amd64 Packages [1,372 kB]\n",
            "Fetched 6,145 kB in 3s (2,033 kB/s)\n",
            "Reading package lists... Done\n"
          ]
        }
      ]
    },
    {
      "cell_type": "code",
      "source": [
        "import os\n",
        "os.environ[\"JAVA_HOME\"] = \"/usr/lib/jvm/java-8-openjdk-amd64\"\n",
        "os.environ[\"SPARK_HOME\"] = \"/content/spark-3.1.1-bin-hadoop3.2\"\n",
        "import findspark\n",
        "findspark.init()"
      ],
      "metadata": {
        "id": "fMi9Pr3CivZk"
      },
      "execution_count": 5,
      "outputs": []
    },
    {
      "cell_type": "code",
      "source": [
        "from pyspark.sql import SparkSession\n",
        "spark = SparkSession.builder.master(\"local[1]\").appName(\"RDD\").getOrCreate()\n",
        "spark"
      ],
      "metadata": {
        "id": "DoVNQU2-iw2j",
        "outputId": "fef28705-7ead-4ed1-bcd2-14299f9dfc96",
        "colab": {
          "base_uri": "https://localhost:8080/",
          "height": 219
        }
      },
      "execution_count": 6,
      "outputs": [
        {
          "output_type": "execute_result",
          "data": {
            "text/plain": [
              "<pyspark.sql.session.SparkSession at 0x7f8a9046ae00>"
            ],
            "text/html": [
              "\n",
              "            <div>\n",
              "                <p><b>SparkSession - in-memory</b></p>\n",
              "                \n",
              "        <div>\n",
              "            <p><b>SparkContext</b></p>\n",
              "\n",
              "            <p><a href=\"http://0bf2c647e6b6:4040\">Spark UI</a></p>\n",
              "\n",
              "            <dl>\n",
              "              <dt>Version</dt>\n",
              "                <dd><code>v3.1.1</code></dd>\n",
              "              <dt>Master</dt>\n",
              "                <dd><code>local[1]</code></dd>\n",
              "              <dt>AppName</dt>\n",
              "                <dd><code>RDD</code></dd>\n",
              "            </dl>\n",
              "        </div>\n",
              "        \n",
              "            </div>\n",
              "        "
            ]
          },
          "metadata": {},
          "execution_count": 6
        }
      ]
    },
    {
      "cell_type": "code",
      "source": [
        "df = spark.read.csv(\"/content/NCBI_Escherichia_coli_genomes.csv\", inferSchema = True, header = True)\n",
        "df.show(5, truncate = False)"
      ],
      "metadata": {
        "id": "EHNS2f6Qli9-",
        "outputId": "960c9eff-08a8-432a-e0b7-0b9c98777f1b",
        "colab": {
          "base_uri": "https://localhost:8080/"
        }
      },
      "execution_count": 7,
      "outputs": [
        {
          "output_type": "stream",
          "name": "stdout",
          "text": [
            "+----------------+-------------------------------------------+------------+------------+-----------+---------------+--------+--------+----+---------+------+---------+----+-------------------+----------------------------------------------------------------------------------+----------------------------------------------------------------------------------+\n",
            "|#Organism Name  |Organism Groups                            |Strain      |BioSample   |BioProject |Assembly       |Level   |Size(Mb)|GC% |Replicons|WGS   |Scaffolds|CDS |Release Date       |GenBank FTP                                                                       |RefSeq FTP                                                                        |\n",
            "+----------------+-------------------------------------------+------------+------------+-----------+---------------+--------+--------+----+---------+------+---------+----+-------------------+----------------------------------------------------------------------------------+----------------------------------------------------------------------------------+\n",
            "|Escherichia coli|Bacteria;Proteobacteria;Gammaproteobacteria|IMT2125     |SAMEA2272029|PRJEB51    |GCA_000308975.2|Scaffold|4.75415 |50.7|null     |CAJT01|1        |4266|2012-08-01 00:00:00|ftp://ftp.ncbi.nlm.nih.gov/genomes/all/GCA/000/308/975/GCA_000308975.2_ASM30897v2 |ftp://ftp.ncbi.nlm.nih.gov/genomes/all/GCF/000/308/975/GCF_000308975.1_ASM30897v2 |\n",
            "|Escherichia coli|Bacteria;Proteobacteria;Gammaproteobacteria|NCTC9050    |SAMEA3376907|PRJEB6403  |GCA_900448985.1|Contig  |5.84429 |50.6|null     |UGBX01|4        |5283|2018-07-30 00:00:00|ftp://ftp.ncbi.nlm.nih.gov/genomes/all/GCA/900/448/985/GCA_900448985.1_38490_E02  |ftp://ftp.ncbi.nlm.nih.gov/genomes/all/GCF/900/448/985/GCF_900448985.1_38490_E02  |\n",
            "|Escherichia coli|Bacteria;Proteobacteria;Gammaproteobacteria|NCTC9026    |SAMEA3368324|PRJEB6403  |GCA_900448875.1|Contig  |5.69529 |50.6|null     |UGAL01|2        |5246|2018-07-30 00:00:00|ftp://ftp.ncbi.nlm.nih.gov/genomes/all/GCA/900/448/875/GCA_900448875.1_38389_F01  |ftp://ftp.ncbi.nlm.nih.gov/genomes/all/GCF/900/448/875/GCF_900448875.1_38389_F01  |\n",
            "|Escherichia coli|Bacteria;Proteobacteria;Gammaproteobacteria|FDAARGOS_398|SAMN07312442|PRJNA231221|GCA_002554475.1|Contig  |5.67685 |50.4|null     |PDED01|4        |5210|2017-10-16 00:00:00|ftp://ftp.ncbi.nlm.nih.gov/genomes/all/GCA/002/554/475/GCA_002554475.1_ASM255447v1|ftp://ftp.ncbi.nlm.nih.gov/genomes/all/GCF/002/554/475/GCF_002554475.1_ASM255447v1|\n",
            "|Escherichia coli|Bacteria;Proteobacteria;Gammaproteobacteria|FDAARGOS_399|SAMN07312443|PRJNA231221|GCA_002554675.1|Contig  |5.6334  |50.5|null     |PDEK01|3        |5187|2017-10-16 00:00:00|ftp://ftp.ncbi.nlm.nih.gov/genomes/all/GCA/002/554/675/GCA_002554675.1_ASM255467v1|ftp://ftp.ncbi.nlm.nih.gov/genomes/all/GCF/002/554/675/GCF_002554675.1_ASM255467v1|\n",
            "+----------------+-------------------------------------------+------------+------------+-----------+---------------+--------+--------+----+---------+------+---------+----+-------------------+----------------------------------------------------------------------------------+----------------------------------------------------------------------------------+\n",
            "only showing top 5 rows\n",
            "\n"
          ]
        }
      ]
    },
    {
      "cell_type": "code",
      "source": [
        "print(df.count(), len(df.columns))"
      ],
      "metadata": {
        "id": "4ZEKiDBFmlmn",
        "colab": {
          "base_uri": "https://localhost:8080/"
        },
        "outputId": "61f61cd3-56c1-43ae-cb16-92c4364cc36f"
      },
      "execution_count": 8,
      "outputs": [
        {
          "output_type": "stream",
          "name": "stdout",
          "text": [
            "24008 16\n"
          ]
        }
      ]
    },
    {
      "cell_type": "code",
      "source": [
        "df.printSchema()"
      ],
      "metadata": {
        "id": "l5KlHe9Vmvvs",
        "colab": {
          "base_uri": "https://localhost:8080/"
        },
        "outputId": "62634ea4-8a89-428a-9f75-adb7722334ce"
      },
      "execution_count": 9,
      "outputs": [
        {
          "output_type": "stream",
          "name": "stdout",
          "text": [
            "root\n",
            " |-- #Organism Name: string (nullable = true)\n",
            " |-- Organism Groups: string (nullable = true)\n",
            " |-- Strain: string (nullable = true)\n",
            " |-- BioSample: string (nullable = true)\n",
            " |-- BioProject: string (nullable = true)\n",
            " |-- Assembly: string (nullable = true)\n",
            " |-- Level: string (nullable = true)\n",
            " |-- Size(Mb): double (nullable = true)\n",
            " |-- GC%: double (nullable = true)\n",
            " |-- Replicons: string (nullable = true)\n",
            " |-- WGS: string (nullable = true)\n",
            " |-- Scaffolds: integer (nullable = true)\n",
            " |-- CDS: integer (nullable = true)\n",
            " |-- Release Date: timestamp (nullable = true)\n",
            " |-- GenBank FTP: string (nullable = true)\n",
            " |-- RefSeq FTP: string (nullable = true)\n",
            "\n"
          ]
        }
      ]
    },
    {
      "cell_type": "code",
      "source": [
        "df.columns"
      ],
      "metadata": {
        "id": "ziPmyVaIr_KB",
        "colab": {
          "base_uri": "https://localhost:8080/"
        },
        "outputId": "db9d911e-cc72-455f-af31-3d41f21c46d5"
      },
      "execution_count": 10,
      "outputs": [
        {
          "output_type": "execute_result",
          "data": {
            "text/plain": [
              "['#Organism Name',\n",
              " 'Organism Groups',\n",
              " 'Strain',\n",
              " 'BioSample',\n",
              " 'BioProject',\n",
              " 'Assembly',\n",
              " 'Level',\n",
              " 'Size(Mb)',\n",
              " 'GC%',\n",
              " 'Replicons',\n",
              " 'WGS',\n",
              " 'Scaffolds',\n",
              " 'CDS',\n",
              " 'Release Date',\n",
              " 'GenBank FTP',\n",
              " 'RefSeq FTP']"
            ]
          },
          "metadata": {},
          "execution_count": 10
        }
      ]
    },
    {
      "cell_type": "code",
      "source": [
        "print(df['Organism Groups'])\n",
        "print(\"*\"*20)\n",
        "df.select(df['Organism Groups']).show(truncate=False)"
      ],
      "metadata": {
        "id": "5uRRvfk1sILB",
        "colab": {
          "base_uri": "https://localhost:8080/"
        },
        "outputId": "0538a33d-1ca2-4329-9841-a3371efbb5f6"
      },
      "execution_count": 11,
      "outputs": [
        {
          "output_type": "stream",
          "name": "stdout",
          "text": [
            "Column<'Organism Groups'>\n",
            "********************\n",
            "+-------------------------------------------+\n",
            "|Organism Groups                            |\n",
            "+-------------------------------------------+\n",
            "|Bacteria;Proteobacteria;Gammaproteobacteria|\n",
            "|Bacteria;Proteobacteria;Gammaproteobacteria|\n",
            "|Bacteria;Proteobacteria;Gammaproteobacteria|\n",
            "|Bacteria;Proteobacteria;Gammaproteobacteria|\n",
            "|Bacteria;Proteobacteria;Gammaproteobacteria|\n",
            "|Bacteria;Proteobacteria;Gammaproteobacteria|\n",
            "|Bacteria;Proteobacteria;Gammaproteobacteria|\n",
            "|Bacteria;Proteobacteria;Gammaproteobacteria|\n",
            "|Bacteria;Proteobacteria;Gammaproteobacteria|\n",
            "|Bacteria;Proteobacteria;Gammaproteobacteria|\n",
            "|Bacteria;Proteobacteria;Gammaproteobacteria|\n",
            "|Bacteria;Proteobacteria;Gammaproteobacteria|\n",
            "|Bacteria;Proteobacteria;Gammaproteobacteria|\n",
            "|Bacteria;Proteobacteria;Gammaproteobacteria|\n",
            "|Bacteria;Proteobacteria;Gammaproteobacteria|\n",
            "|Bacteria;Proteobacteria;Gammaproteobacteria|\n",
            "|Bacteria;Proteobacteria;Gammaproteobacteria|\n",
            "|Bacteria;Proteobacteria;Gammaproteobacteria|\n",
            "|Bacteria;Proteobacteria;Gammaproteobacteria|\n",
            "|Bacteria;Proteobacteria;Gammaproteobacteria|\n",
            "+-------------------------------------------+\n",
            "only showing top 20 rows\n",
            "\n"
          ]
        }
      ]
    },
    {
      "cell_type": "code",
      "source": [
        "# 3rd method\n",
        "# Column name is case insensitive here\n",
        "from pyspark.sql.functions import col\n",
        "df.select(col('Organism Groups')).show(truncate=False)"
      ],
      "metadata": {
        "id": "oLcb3syRvqhU",
        "colab": {
          "base_uri": "https://localhost:8080/"
        },
        "outputId": "750def4f-f925-40c4-88af-18c7e5bfcddf"
      },
      "execution_count": 12,
      "outputs": [
        {
          "output_type": "stream",
          "name": "stdout",
          "text": [
            "+-------------------------------------------+\n",
            "|Organism Groups                            |\n",
            "+-------------------------------------------+\n",
            "|Bacteria;Proteobacteria;Gammaproteobacteria|\n",
            "|Bacteria;Proteobacteria;Gammaproteobacteria|\n",
            "|Bacteria;Proteobacteria;Gammaproteobacteria|\n",
            "|Bacteria;Proteobacteria;Gammaproteobacteria|\n",
            "|Bacteria;Proteobacteria;Gammaproteobacteria|\n",
            "|Bacteria;Proteobacteria;Gammaproteobacteria|\n",
            "|Bacteria;Proteobacteria;Gammaproteobacteria|\n",
            "|Bacteria;Proteobacteria;Gammaproteobacteria|\n",
            "|Bacteria;Proteobacteria;Gammaproteobacteria|\n",
            "|Bacteria;Proteobacteria;Gammaproteobacteria|\n",
            "|Bacteria;Proteobacteria;Gammaproteobacteria|\n",
            "|Bacteria;Proteobacteria;Gammaproteobacteria|\n",
            "|Bacteria;Proteobacteria;Gammaproteobacteria|\n",
            "|Bacteria;Proteobacteria;Gammaproteobacteria|\n",
            "|Bacteria;Proteobacteria;Gammaproteobacteria|\n",
            "|Bacteria;Proteobacteria;Gammaproteobacteria|\n",
            "|Bacteria;Proteobacteria;Gammaproteobacteria|\n",
            "|Bacteria;Proteobacteria;Gammaproteobacteria|\n",
            "|Bacteria;Proteobacteria;Gammaproteobacteria|\n",
            "|Bacteria;Proteobacteria;Gammaproteobacteria|\n",
            "+-------------------------------------------+\n",
            "only showing top 20 rows\n",
            "\n"
          ]
        }
      ]
    },
    {
      "cell_type": "code",
      "source": [
        "print(df.Strain, df.BioSample)\n",
        "print(\"*\"*40)\n",
        "df.select(df.Strain, df.BioSample).show(truncate=False)\n",
        "\n",
        "print(df['Strain'],df['BioSample'])\n",
        "print(\"*\"*40)\n",
        "df.select(df['Strain'],df['BioSample']).show(truncate=False)\n",
        "\n",
        "from pyspark.sql.functions import col\n",
        "df.select(col('Strain'),col('BioSample')).show(truncate=False)"
      ],
      "metadata": {
        "id": "Z8bDdbMuwDYf",
        "colab": {
          "base_uri": "https://localhost:8080/"
        },
        "outputId": "c34853ef-e9ba-4539-c165-67bfd869a8e6"
      },
      "execution_count": 13,
      "outputs": [
        {
          "output_type": "stream",
          "name": "stdout",
          "text": [
            "Column<'Strain'> Column<'BioSample'>\n",
            "****************************************\n",
            "+------------+------------+\n",
            "|Strain      |BioSample   |\n",
            "+------------+------------+\n",
            "|IMT2125     |SAMEA2272029|\n",
            "|NCTC9050    |SAMEA3376907|\n",
            "|NCTC9026    |SAMEA3368324|\n",
            "|FDAARGOS_398|SAMN07312442|\n",
            "|FDAARGOS_399|SAMN07312443|\n",
            "|NCTC9119    |SAMEA3672880|\n",
            "|NCTC4168    |SAMEA3572437|\n",
            "|NCTC1093    |SAMEA4537266|\n",
            "|11-3925     |SAMN15532309|\n",
            "|BMH-17-0004 |SAMN15532307|\n",
            "|blood       |SAMEA5818782|\n",
            "|NCTC9030    |SAMEA3376906|\n",
            "|COL20160015 |SAMN15893636|\n",
            "|COL20160015 |SAMN15893637|\n",
            "|COL20160015 |SAMN15893635|\n",
            "|COL20160015 |SAMN15893638|\n",
            "|1748        |SAMN15532308|\n",
            "|NCTC13128   |SAMEA3512670|\n",
            "|COL20160015 |SAMN15644366|\n",
            "|NCTC7927    |SAMEA3368255|\n",
            "+------------+------------+\n",
            "only showing top 20 rows\n",
            "\n",
            "Column<'Strain'> Column<'BioSample'>\n",
            "****************************************\n",
            "+------------+------------+\n",
            "|Strain      |BioSample   |\n",
            "+------------+------------+\n",
            "|IMT2125     |SAMEA2272029|\n",
            "|NCTC9050    |SAMEA3376907|\n",
            "|NCTC9026    |SAMEA3368324|\n",
            "|FDAARGOS_398|SAMN07312442|\n",
            "|FDAARGOS_399|SAMN07312443|\n",
            "|NCTC9119    |SAMEA3672880|\n",
            "|NCTC4168    |SAMEA3572437|\n",
            "|NCTC1093    |SAMEA4537266|\n",
            "|11-3925     |SAMN15532309|\n",
            "|BMH-17-0004 |SAMN15532307|\n",
            "|blood       |SAMEA5818782|\n",
            "|NCTC9030    |SAMEA3376906|\n",
            "|COL20160015 |SAMN15893636|\n",
            "|COL20160015 |SAMN15893637|\n",
            "|COL20160015 |SAMN15893635|\n",
            "|COL20160015 |SAMN15893638|\n",
            "|1748        |SAMN15532308|\n",
            "|NCTC13128   |SAMEA3512670|\n",
            "|COL20160015 |SAMN15644366|\n",
            "|NCTC7927    |SAMEA3368255|\n",
            "+------------+------------+\n",
            "only showing top 20 rows\n",
            "\n",
            "+------------+------------+\n",
            "|Strain      |BioSample   |\n",
            "+------------+------------+\n",
            "|IMT2125     |SAMEA2272029|\n",
            "|NCTC9050    |SAMEA3376907|\n",
            "|NCTC9026    |SAMEA3368324|\n",
            "|FDAARGOS_398|SAMN07312442|\n",
            "|FDAARGOS_399|SAMN07312443|\n",
            "|NCTC9119    |SAMEA3672880|\n",
            "|NCTC4168    |SAMEA3572437|\n",
            "|NCTC1093    |SAMEA4537266|\n",
            "|11-3925     |SAMN15532309|\n",
            "|BMH-17-0004 |SAMN15532307|\n",
            "|blood       |SAMEA5818782|\n",
            "|NCTC9030    |SAMEA3376906|\n",
            "|COL20160015 |SAMN15893636|\n",
            "|COL20160015 |SAMN15893637|\n",
            "|COL20160015 |SAMN15893635|\n",
            "|COL20160015 |SAMN15893638|\n",
            "|1748        |SAMN15532308|\n",
            "|NCTC13128   |SAMEA3512670|\n",
            "|COL20160015 |SAMN15644366|\n",
            "|NCTC7927    |SAMEA3368255|\n",
            "+------------+------------+\n",
            "only showing top 20 rows\n",
            "\n"
          ]
        }
      ]
    },
    {
      "cell_type": "code",
      "source": [
        "from pyspark.sql.functions import lit\n",
        "df = df.withColumn('first_column',lit(1))\n",
        "\n",
        "df.show(5,truncate=False)"
      ],
      "metadata": {
        "id": "PSaUMjwuwObr",
        "colab": {
          "base_uri": "https://localhost:8080/"
        },
        "outputId": "d570b1ef-3880-4ff6-81b2-a23b65acc595"
      },
      "execution_count": 14,
      "outputs": [
        {
          "output_type": "stream",
          "name": "stdout",
          "text": [
            "+----------------+-------------------------------------------+------------+------------+-----------+---------------+--------+--------+----+---------+------+---------+----+-------------------+----------------------------------------------------------------------------------+----------------------------------------------------------------------------------+------------+\n",
            "|#Organism Name  |Organism Groups                            |Strain      |BioSample   |BioProject |Assembly       |Level   |Size(Mb)|GC% |Replicons|WGS   |Scaffolds|CDS |Release Date       |GenBank FTP                                                                       |RefSeq FTP                                                                        |first_column|\n",
            "+----------------+-------------------------------------------+------------+------------+-----------+---------------+--------+--------+----+---------+------+---------+----+-------------------+----------------------------------------------------------------------------------+----------------------------------------------------------------------------------+------------+\n",
            "|Escherichia coli|Bacteria;Proteobacteria;Gammaproteobacteria|IMT2125     |SAMEA2272029|PRJEB51    |GCA_000308975.2|Scaffold|4.75415 |50.7|null     |CAJT01|1        |4266|2012-08-01 00:00:00|ftp://ftp.ncbi.nlm.nih.gov/genomes/all/GCA/000/308/975/GCA_000308975.2_ASM30897v2 |ftp://ftp.ncbi.nlm.nih.gov/genomes/all/GCF/000/308/975/GCF_000308975.1_ASM30897v2 |1           |\n",
            "|Escherichia coli|Bacteria;Proteobacteria;Gammaproteobacteria|NCTC9050    |SAMEA3376907|PRJEB6403  |GCA_900448985.1|Contig  |5.84429 |50.6|null     |UGBX01|4        |5283|2018-07-30 00:00:00|ftp://ftp.ncbi.nlm.nih.gov/genomes/all/GCA/900/448/985/GCA_900448985.1_38490_E02  |ftp://ftp.ncbi.nlm.nih.gov/genomes/all/GCF/900/448/985/GCF_900448985.1_38490_E02  |1           |\n",
            "|Escherichia coli|Bacteria;Proteobacteria;Gammaproteobacteria|NCTC9026    |SAMEA3368324|PRJEB6403  |GCA_900448875.1|Contig  |5.69529 |50.6|null     |UGAL01|2        |5246|2018-07-30 00:00:00|ftp://ftp.ncbi.nlm.nih.gov/genomes/all/GCA/900/448/875/GCA_900448875.1_38389_F01  |ftp://ftp.ncbi.nlm.nih.gov/genomes/all/GCF/900/448/875/GCF_900448875.1_38389_F01  |1           |\n",
            "|Escherichia coli|Bacteria;Proteobacteria;Gammaproteobacteria|FDAARGOS_398|SAMN07312442|PRJNA231221|GCA_002554475.1|Contig  |5.67685 |50.4|null     |PDED01|4        |5210|2017-10-16 00:00:00|ftp://ftp.ncbi.nlm.nih.gov/genomes/all/GCA/002/554/475/GCA_002554475.1_ASM255447v1|ftp://ftp.ncbi.nlm.nih.gov/genomes/all/GCF/002/554/475/GCF_002554475.1_ASM255447v1|1           |\n",
            "|Escherichia coli|Bacteria;Proteobacteria;Gammaproteobacteria|FDAARGOS_399|SAMN07312443|PRJNA231221|GCA_002554675.1|Contig  |5.6334  |50.5|null     |PDEK01|3        |5187|2017-10-16 00:00:00|ftp://ftp.ncbi.nlm.nih.gov/genomes/all/GCA/002/554/675/GCA_002554675.1_ASM255467v1|ftp://ftp.ncbi.nlm.nih.gov/genomes/all/GCF/002/554/675/GCF_002554675.1_ASM255467v1|1           |\n",
            "+----------------+-------------------------------------------+------------+------------+-----------+---------------+--------+--------+----+---------+------+---------+----+-------------------+----------------------------------------------------------------------------------+----------------------------------------------------------------------------------+------------+\n",
            "only showing top 5 rows\n",
            "\n"
          ]
        }
      ]
    },
    {
      "cell_type": "code",
      "source": [
        "df = df.withColumn('second_column', lit(2)) \\\n",
        "      .withColumn('third_column', lit('Third Column'))\n",
        "df.show(5,truncate=False)"
      ],
      "metadata": {
        "id": "7Xocx3BqxeEE",
        "colab": {
          "base_uri": "https://localhost:8080/"
        },
        "outputId": "fcab1a66-adb9-4af0-e2eb-ab0ff02d9800"
      },
      "execution_count": 15,
      "outputs": [
        {
          "output_type": "stream",
          "name": "stdout",
          "text": [
            "+----------------+-------------------------------------------+------------+------------+-----------+---------------+--------+--------+----+---------+------+---------+----+-------------------+----------------------------------------------------------------------------------+----------------------------------------------------------------------------------+------------+-------------+------------+\n",
            "|#Organism Name  |Organism Groups                            |Strain      |BioSample   |BioProject |Assembly       |Level   |Size(Mb)|GC% |Replicons|WGS   |Scaffolds|CDS |Release Date       |GenBank FTP                                                                       |RefSeq FTP                                                                        |first_column|second_column|third_column|\n",
            "+----------------+-------------------------------------------+------------+------------+-----------+---------------+--------+--------+----+---------+------+---------+----+-------------------+----------------------------------------------------------------------------------+----------------------------------------------------------------------------------+------------+-------------+------------+\n",
            "|Escherichia coli|Bacteria;Proteobacteria;Gammaproteobacteria|IMT2125     |SAMEA2272029|PRJEB51    |GCA_000308975.2|Scaffold|4.75415 |50.7|null     |CAJT01|1        |4266|2012-08-01 00:00:00|ftp://ftp.ncbi.nlm.nih.gov/genomes/all/GCA/000/308/975/GCA_000308975.2_ASM30897v2 |ftp://ftp.ncbi.nlm.nih.gov/genomes/all/GCF/000/308/975/GCF_000308975.1_ASM30897v2 |1           |2            |Third Column|\n",
            "|Escherichia coli|Bacteria;Proteobacteria;Gammaproteobacteria|NCTC9050    |SAMEA3376907|PRJEB6403  |GCA_900448985.1|Contig  |5.84429 |50.6|null     |UGBX01|4        |5283|2018-07-30 00:00:00|ftp://ftp.ncbi.nlm.nih.gov/genomes/all/GCA/900/448/985/GCA_900448985.1_38490_E02  |ftp://ftp.ncbi.nlm.nih.gov/genomes/all/GCF/900/448/985/GCF_900448985.1_38490_E02  |1           |2            |Third Column|\n",
            "|Escherichia coli|Bacteria;Proteobacteria;Gammaproteobacteria|NCTC9026    |SAMEA3368324|PRJEB6403  |GCA_900448875.1|Contig  |5.69529 |50.6|null     |UGAL01|2        |5246|2018-07-30 00:00:00|ftp://ftp.ncbi.nlm.nih.gov/genomes/all/GCA/900/448/875/GCA_900448875.1_38389_F01  |ftp://ftp.ncbi.nlm.nih.gov/genomes/all/GCF/900/448/875/GCF_900448875.1_38389_F01  |1           |2            |Third Column|\n",
            "|Escherichia coli|Bacteria;Proteobacteria;Gammaproteobacteria|FDAARGOS_398|SAMN07312442|PRJNA231221|GCA_002554475.1|Contig  |5.67685 |50.4|null     |PDED01|4        |5210|2017-10-16 00:00:00|ftp://ftp.ncbi.nlm.nih.gov/genomes/all/GCA/002/554/475/GCA_002554475.1_ASM255447v1|ftp://ftp.ncbi.nlm.nih.gov/genomes/all/GCF/002/554/475/GCF_002554475.1_ASM255447v1|1           |2            |Third Column|\n",
            "|Escherichia coli|Bacteria;Proteobacteria;Gammaproteobacteria|FDAARGOS_399|SAMN07312443|PRJNA231221|GCA_002554675.1|Contig  |5.6334  |50.5|null     |PDEK01|3        |5187|2017-10-16 00:00:00|ftp://ftp.ncbi.nlm.nih.gov/genomes/all/GCA/002/554/675/GCA_002554675.1_ASM255467v1|ftp://ftp.ncbi.nlm.nih.gov/genomes/all/GCF/002/554/675/GCF_002554675.1_ASM255467v1|1           |2            |Third Column|\n",
            "+----------------+-------------------------------------------+------------+------------+-----------+---------------+--------+--------+----+---------+------+---------+----+-------------------+----------------------------------------------------------------------------------+----------------------------------------------------------------------------------+------------+-------------+------------+\n",
            "only showing top 5 rows\n",
            "\n"
          ]
        }
      ]
    },
    {
      "cell_type": "code",
      "source": [
        "from pyspark.sql.functions import concat\n",
        "df = df.withColumn('#Organism Name_GC% ', concat(col(\"#Organism Name\"), lit(\" \"), col(\"GC%\")))\n",
        "\n",
        "df.show(5,truncate=False)"
      ],
      "metadata": {
        "id": "j4vHyXnoyHuU",
        "colab": {
          "base_uri": "https://localhost:8080/"
        },
        "outputId": "23ceb590-623a-4dd9-e317-5decd4d4d90d"
      },
      "execution_count": 16,
      "outputs": [
        {
          "output_type": "stream",
          "name": "stdout",
          "text": [
            "+----------------+-------------------------------------------+------------+------------+-----------+---------------+--------+--------+----+---------+------+---------+----+-------------------+----------------------------------------------------------------------------------+----------------------------------------------------------------------------------+------------+-------------+------------+---------------------+\n",
            "|#Organism Name  |Organism Groups                            |Strain      |BioSample   |BioProject |Assembly       |Level   |Size(Mb)|GC% |Replicons|WGS   |Scaffolds|CDS |Release Date       |GenBank FTP                                                                       |RefSeq FTP                                                                        |first_column|second_column|third_column|#Organism Name_GC%   |\n",
            "+----------------+-------------------------------------------+------------+------------+-----------+---------------+--------+--------+----+---------+------+---------+----+-------------------+----------------------------------------------------------------------------------+----------------------------------------------------------------------------------+------------+-------------+------------+---------------------+\n",
            "|Escherichia coli|Bacteria;Proteobacteria;Gammaproteobacteria|IMT2125     |SAMEA2272029|PRJEB51    |GCA_000308975.2|Scaffold|4.75415 |50.7|null     |CAJT01|1        |4266|2012-08-01 00:00:00|ftp://ftp.ncbi.nlm.nih.gov/genomes/all/GCA/000/308/975/GCA_000308975.2_ASM30897v2 |ftp://ftp.ncbi.nlm.nih.gov/genomes/all/GCF/000/308/975/GCF_000308975.1_ASM30897v2 |1           |2            |Third Column|Escherichia coli 50.7|\n",
            "|Escherichia coli|Bacteria;Proteobacteria;Gammaproteobacteria|NCTC9050    |SAMEA3376907|PRJEB6403  |GCA_900448985.1|Contig  |5.84429 |50.6|null     |UGBX01|4        |5283|2018-07-30 00:00:00|ftp://ftp.ncbi.nlm.nih.gov/genomes/all/GCA/900/448/985/GCA_900448985.1_38490_E02  |ftp://ftp.ncbi.nlm.nih.gov/genomes/all/GCF/900/448/985/GCF_900448985.1_38490_E02  |1           |2            |Third Column|Escherichia coli 50.6|\n",
            "|Escherichia coli|Bacteria;Proteobacteria;Gammaproteobacteria|NCTC9026    |SAMEA3368324|PRJEB6403  |GCA_900448875.1|Contig  |5.69529 |50.6|null     |UGAL01|2        |5246|2018-07-30 00:00:00|ftp://ftp.ncbi.nlm.nih.gov/genomes/all/GCA/900/448/875/GCA_900448875.1_38389_F01  |ftp://ftp.ncbi.nlm.nih.gov/genomes/all/GCF/900/448/875/GCF_900448875.1_38389_F01  |1           |2            |Third Column|Escherichia coli 50.6|\n",
            "|Escherichia coli|Bacteria;Proteobacteria;Gammaproteobacteria|FDAARGOS_398|SAMN07312442|PRJNA231221|GCA_002554475.1|Contig  |5.67685 |50.4|null     |PDED01|4        |5210|2017-10-16 00:00:00|ftp://ftp.ncbi.nlm.nih.gov/genomes/all/GCA/002/554/475/GCA_002554475.1_ASM255447v1|ftp://ftp.ncbi.nlm.nih.gov/genomes/all/GCF/002/554/475/GCF_002554475.1_ASM255447v1|1           |2            |Third Column|Escherichia coli 50.4|\n",
            "|Escherichia coli|Bacteria;Proteobacteria;Gammaproteobacteria|FDAARGOS_399|SAMN07312443|PRJNA231221|GCA_002554675.1|Contig  |5.6334  |50.5|null     |PDEK01|3        |5187|2017-10-16 00:00:00|ftp://ftp.ncbi.nlm.nih.gov/genomes/all/GCA/002/554/675/GCA_002554675.1_ASM255467v1|ftp://ftp.ncbi.nlm.nih.gov/genomes/all/GCF/002/554/675/GCF_002554675.1_ASM255467v1|1           |2            |Third Column|Escherichia coli 50.5|\n",
            "+----------------+-------------------------------------------+------------+------------+-----------+---------------+--------+--------+----+---------+------+---------+----+-------------------+----------------------------------------------------------------------------------+----------------------------------------------------------------------------------+------------+-------------+------------+---------------------+\n",
            "only showing top 5 rows\n",
            "\n"
          ]
        }
      ]
    },
    {
      "cell_type": "code",
      "source": [
        "\n",
        "df = df.withColumnRenamed('first_column', 'new_column_one') \\\n",
        "      .withColumnRenamed('second_column', 'new_column_two') \\\n",
        "      .withColumnRenamed('third_column', 'new_column_three')\n",
        "df.show(truncate=False)"
      ],
      "metadata": {
        "id": "kdNVBoBBy75Z",
        "colab": {
          "base_uri": "https://localhost:8080/"
        },
        "outputId": "dc16a3d7-7b72-46a4-867c-4b72ec1da25a"
      },
      "execution_count": 17,
      "outputs": [
        {
          "output_type": "stream",
          "name": "stdout",
          "text": [
            "+----------------+-------------------------------------------+------------+------------+-----------+---------------+--------+--------+----+---------+--------+---------+----+-------------------+--------------------------------------------------------------------------------------+--------------------------------------------------------------------------------------+--------------+--------------+----------------+---------------------+\n",
            "|#Organism Name  |Organism Groups                            |Strain      |BioSample   |BioProject |Assembly       |Level   |Size(Mb)|GC% |Replicons|WGS     |Scaffolds|CDS |Release Date       |GenBank FTP                                                                           |RefSeq FTP                                                                            |new_column_one|new_column_two|new_column_three|#Organism Name_GC%   |\n",
            "+----------------+-------------------------------------------+------------+------------+-----------+---------------+--------+--------+----+---------+--------+---------+----+-------------------+--------------------------------------------------------------------------------------+--------------------------------------------------------------------------------------+--------------+--------------+----------------+---------------------+\n",
            "|Escherichia coli|Bacteria;Proteobacteria;Gammaproteobacteria|IMT2125     |SAMEA2272029|PRJEB51    |GCA_000308975.2|Scaffold|4.75415 |50.7|null     |CAJT01  |1        |4266|2012-08-01 00:00:00|ftp://ftp.ncbi.nlm.nih.gov/genomes/all/GCA/000/308/975/GCA_000308975.2_ASM30897v2     |ftp://ftp.ncbi.nlm.nih.gov/genomes/all/GCF/000/308/975/GCF_000308975.1_ASM30897v2     |1             |2             |Third Column    |Escherichia coli 50.7|\n",
            "|Escherichia coli|Bacteria;Proteobacteria;Gammaproteobacteria|NCTC9050    |SAMEA3376907|PRJEB6403  |GCA_900448985.1|Contig  |5.84429 |50.6|null     |UGBX01  |4        |5283|2018-07-30 00:00:00|ftp://ftp.ncbi.nlm.nih.gov/genomes/all/GCA/900/448/985/GCA_900448985.1_38490_E02      |ftp://ftp.ncbi.nlm.nih.gov/genomes/all/GCF/900/448/985/GCF_900448985.1_38490_E02      |1             |2             |Third Column    |Escherichia coli 50.6|\n",
            "|Escherichia coli|Bacteria;Proteobacteria;Gammaproteobacteria|NCTC9026    |SAMEA3368324|PRJEB6403  |GCA_900448875.1|Contig  |5.69529 |50.6|null     |UGAL01  |2        |5246|2018-07-30 00:00:00|ftp://ftp.ncbi.nlm.nih.gov/genomes/all/GCA/900/448/875/GCA_900448875.1_38389_F01      |ftp://ftp.ncbi.nlm.nih.gov/genomes/all/GCF/900/448/875/GCF_900448875.1_38389_F01      |1             |2             |Third Column    |Escherichia coli 50.6|\n",
            "|Escherichia coli|Bacteria;Proteobacteria;Gammaproteobacteria|FDAARGOS_398|SAMN07312442|PRJNA231221|GCA_002554475.1|Contig  |5.67685 |50.4|null     |PDED01  |4        |5210|2017-10-16 00:00:00|ftp://ftp.ncbi.nlm.nih.gov/genomes/all/GCA/002/554/475/GCA_002554475.1_ASM255447v1    |ftp://ftp.ncbi.nlm.nih.gov/genomes/all/GCF/002/554/475/GCF_002554475.1_ASM255447v1    |1             |2             |Third Column    |Escherichia coli 50.4|\n",
            "|Escherichia coli|Bacteria;Proteobacteria;Gammaproteobacteria|FDAARGOS_399|SAMN07312443|PRJNA231221|GCA_002554675.1|Contig  |5.6334  |50.5|null     |PDEK01  |3        |5187|2017-10-16 00:00:00|ftp://ftp.ncbi.nlm.nih.gov/genomes/all/GCA/002/554/675/GCA_002554675.1_ASM255467v1    |ftp://ftp.ncbi.nlm.nih.gov/genomes/all/GCF/002/554/675/GCF_002554675.1_ASM255467v1    |1             |2             |Third Column    |Escherichia coli 50.5|\n",
            "|Escherichia coli|Bacteria;Proteobacteria;Gammaproteobacteria|NCTC9119    |SAMEA3672880|PRJEB6403  |GCA_900450445.1|Contig  |5.49624 |50.5|null     |UGGG01  |3        |4882|2018-07-30 00:00:00|ftp://ftp.ncbi.nlm.nih.gov/genomes/all/GCA/900/450/445/GCA_900450445.1_42925_B01      |ftp://ftp.ncbi.nlm.nih.gov/genomes/all/GCF/900/450/445/GCF_900450445.1_42925_B01      |1             |2             |Third Column    |Escherichia coli 50.5|\n",
            "|Escherichia coli|Bacteria;Proteobacteria;Gammaproteobacteria|NCTC4168    |SAMEA3572437|PRJEB6403  |GCA_900450515.1|Contig  |5.60858 |50.6|null     |UGGK01  |6        |4962|2018-07-30 00:00:00|ftp://ftp.ncbi.nlm.nih.gov/genomes/all/GCA/900/450/515/GCA_900450515.1_41906_D01      |ftp://ftp.ncbi.nlm.nih.gov/genomes/all/GCF/900/450/515/GCF_900450515.1_41906_D01      |1             |2             |Third Column    |Escherichia coli 50.6|\n",
            "|Escherichia coli|Bacteria;Proteobacteria;Gammaproteobacteria|NCTC1093    |SAMEA4537266|PRJEB6403  |GCA_900448115.1|Contig  |5.48966 |50.6|null     |UFZI01  |4        |4969|2018-07-30 00:00:00|ftp://ftp.ncbi.nlm.nih.gov/genomes/all/GCA/900/448/115/GCA_900448115.1_45076_C01      |ftp://ftp.ncbi.nlm.nih.gov/genomes/all/GCF/900/448/115/GCF_900448115.1_45076_C01      |1             |2             |Third Column    |Escherichia coli 50.6|\n",
            "|Escherichia coli|Bacteria;Proteobacteria;Gammaproteobacteria|11-3925     |SAMN15532309|PRJNA646223|GCA_013449615.1|Contig  |5.46358 |50.6|null     |JACDQE01|8        |5023|2020-07-21 00:00:00|ftp://ftp.ncbi.nlm.nih.gov/genomes/all/GCA/013/449/615/GCA_013449615.1_ASM1344961v1   |ftp://ftp.ncbi.nlm.nih.gov/genomes/all/GCF/013/449/615/GCF_013449615.1_ASM1344961v1   |1             |2             |Third Column    |Escherichia coli 50.6|\n",
            "|Escherichia coli|Bacteria;Proteobacteria;Gammaproteobacteria|BMH-17-0004 |SAMN15532307|PRJNA646223|GCA_013449575.1|Contig  |5.44693 |50.6|null     |JACDQG01|2        |5011|2020-07-21 00:00:00|ftp://ftp.ncbi.nlm.nih.gov/genomes/all/GCA/013/449/575/GCA_013449575.1_ASM1344957v1   |ftp://ftp.ncbi.nlm.nih.gov/genomes/all/GCF/013/449/575/GCF_013449575.1_ASM1344957v1   |1             |2             |Third Column    |Escherichia coli 50.6|\n",
            "|Escherichia coli|Bacteria;Proteobacteria;Gammaproteobacteria|blood       |SAMEA5818782|PRJEB33761 |GCA_902668605.1|Contig  |5.53508 |50.7|null     |CACRWJ01|2        |5166|2019-11-22 00:00:00|ftp://ftp.ncbi.nlm.nih.gov/genomes/all/GCA/902/668/605/GCA_902668605.1_EC1_50_assembly|ftp://ftp.ncbi.nlm.nih.gov/genomes/all/GCF/902/668/605/GCF_902668605.1_EC1_50_assembly|1             |2             |Third Column    |Escherichia coli 50.7|\n",
            "|Escherichia coli|Bacteria;Proteobacteria;Gammaproteobacteria|NCTC9030    |SAMEA3376906|PRJEB6403  |GCA_900449245.1|Contig  |5.48563 |50.8|null     |UGBQ01  |3        |4888|2018-07-30 00:00:00|ftp://ftp.ncbi.nlm.nih.gov/genomes/all/GCA/900/449/245/GCA_900449245.1_38732_A01      |ftp://ftp.ncbi.nlm.nih.gov/genomes/all/GCF/900/449/245/GCF_900449245.1_38732_A01      |1             |2             |Third Column    |Escherichia coli 50.8|\n",
            "|Escherichia coli|Bacteria;Proteobacteria;Gammaproteobacteria|COL20160015 |SAMN15893636|PRJNA646605|GCA_014857265.1|Contig  |5.83689 |50.5|null     |JACXXU01|7        |5296|2020-10-06 00:00:00|ftp://ftp.ncbi.nlm.nih.gov/genomes/all/GCA/014/857/265/GCA_014857265.1_ASM1485726v1   |ftp://ftp.ncbi.nlm.nih.gov/genomes/all/GCF/014/857/265/GCF_014857265.1_ASM1485726v1   |1             |2             |Third Column    |Escherichia coli 50.5|\n",
            "|Escherichia coli|Bacteria;Proteobacteria;Gammaproteobacteria|COL20160015 |SAMN15893637|PRJNA646605|GCA_014863425.1|Contig  |5.83689 |50.5|null     |JACXXT01|7        |5295|2020-10-06 00:00:00|ftp://ftp.ncbi.nlm.nih.gov/genomes/all/GCA/014/863/425/GCA_014863425.1_ASM1486342v1   |ftp://ftp.ncbi.nlm.nih.gov/genomes/all/GCF/014/863/425/GCF_014863425.1_ASM1486342v1   |1             |2             |Third Column    |Escherichia coli 50.5|\n",
            "|Escherichia coli|Bacteria;Proteobacteria;Gammaproteobacteria|COL20160015 |SAMN15893635|PRJNA646605|GCA_014857235.1|Contig  |5.83688 |50.5|null     |JACXXV01|7        |5295|2020-10-06 00:00:00|ftp://ftp.ncbi.nlm.nih.gov/genomes/all/GCA/014/857/235/GCA_014857235.1_ASM1485723v1   |ftp://ftp.ncbi.nlm.nih.gov/genomes/all/GCF/014/857/235/GCF_014857235.1_ASM1485723v1   |1             |2             |Third Column    |Escherichia coli 50.5|\n",
            "|Escherichia coli|Bacteria;Proteobacteria;Gammaproteobacteria|COL20160015 |SAMN15893638|PRJNA646605|GCA_014857275.1|Contig  |5.83447 |50.5|null     |JACXXS01|7        |5285|2020-10-06 00:00:00|ftp://ftp.ncbi.nlm.nih.gov/genomes/all/GCA/014/857/275/GCA_014857275.1_ASM1485727v1   |ftp://ftp.ncbi.nlm.nih.gov/genomes/all/GCF/014/857/275/GCF_014857275.1_ASM1485727v1   |1             |2             |Third Column    |Escherichia coli 50.5|\n",
            "|Escherichia coli|Bacteria;Proteobacteria;Gammaproteobacteria|1748        |SAMN15532308|PRJNA646223|GCA_013449585.1|Contig  |5.42429 |50.7|null     |JACDQF01|2        |5045|2020-07-21 00:00:00|ftp://ftp.ncbi.nlm.nih.gov/genomes/all/GCA/013/449/585/GCA_013449585.1_ASM1344958v1   |ftp://ftp.ncbi.nlm.nih.gov/genomes/all/GCF/013/449/585/GCF_013449585.1_ASM1344958v1   |1             |2             |Third Column    |Escherichia coli 50.7|\n",
            "|Escherichia coli|Bacteria;Proteobacteria;Gammaproteobacteria|NCTC13128   |SAMEA3512670|PRJEB6403  |GCA_900450535.1|Contig  |5.46142 |50.4|null     |UGGA01  |3        |4958|2018-07-31 00:00:00|ftp://ftp.ncbi.nlm.nih.gov/genomes/all/GCA/900/450/535/GCA_900450535.1_41004_G02      |ftp://ftp.ncbi.nlm.nih.gov/genomes/all/GCF/900/450/535/GCF_900450535.1_41004_G02      |1             |2             |Third Column    |Escherichia coli 50.4|\n",
            "|Escherichia coli|Bacteria;Proteobacteria;Gammaproteobacteria|COL20160015 |SAMN15644366|PRJNA646605|GCA_014863445.1|Contig  |5.8371  |50.5|null     |JACXYM01|8        |5294|2020-10-06 00:00:00|ftp://ftp.ncbi.nlm.nih.gov/genomes/all/GCA/014/863/445/GCA_014863445.1_ASM1486344v1   |ftp://ftp.ncbi.nlm.nih.gov/genomes/all/GCF/014/863/445/GCF_014863445.1_ASM1486344v1   |1             |2             |Third Column    |Escherichia coli 50.5|\n",
            "|Escherichia coli|Bacteria;Proteobacteria;Gammaproteobacteria|NCTC7927    |SAMEA3368255|PRJEB6403  |GCA_900448695.1|Contig  |5.41796 |50.8|null     |UGAK01  |6        |4763|2018-07-30 00:00:00|ftp://ftp.ncbi.nlm.nih.gov/genomes/all/GCA/900/448/695/GCA_900448695.1_38273_D01      |ftp://ftp.ncbi.nlm.nih.gov/genomes/all/GCF/900/448/695/GCF_900448695.1_38273_D01      |1             |2             |Third Column    |Escherichia coli 50.8|\n",
            "+----------------+-------------------------------------------+------------+------------+-----------+---------------+--------+--------+----+---------+--------+---------+----+-------------------+--------------------------------------------------------------------------------------+--------------------------------------------------------------------------------------+--------------+--------------+----------------+---------------------+\n",
            "only showing top 20 rows\n",
            "\n"
          ]
        }
      ]
    },
    {
      "cell_type": "code",
      "source": [
        "\n",
        "df = df.drop('new_column_one')\n",
        "df.show(5,truncate=False)\n",
        "\n",
        "\n",
        "df = df.drop('new_column_two') \\\n",
        "      .drop('new_column_three')\n",
        "df.show(5,truncate=False)"
      ],
      "metadata": {
        "id": "evbCFJu7zM0P",
        "colab": {
          "base_uri": "https://localhost:8080/"
        },
        "outputId": "e774aa1b-dab5-4a7b-f33e-b402cef2834a"
      },
      "execution_count": 18,
      "outputs": [
        {
          "output_type": "stream",
          "name": "stdout",
          "text": [
            "+----------------+-------------------------------------------+------------+------------+-----------+---------------+--------+--------+----+---------+------+---------+----+-------------------+----------------------------------------------------------------------------------+----------------------------------------------------------------------------------+--------------+----------------+---------------------+\n",
            "|#Organism Name  |Organism Groups                            |Strain      |BioSample   |BioProject |Assembly       |Level   |Size(Mb)|GC% |Replicons|WGS   |Scaffolds|CDS |Release Date       |GenBank FTP                                                                       |RefSeq FTP                                                                        |new_column_two|new_column_three|#Organism Name_GC%   |\n",
            "+----------------+-------------------------------------------+------------+------------+-----------+---------------+--------+--------+----+---------+------+---------+----+-------------------+----------------------------------------------------------------------------------+----------------------------------------------------------------------------------+--------------+----------------+---------------------+\n",
            "|Escherichia coli|Bacteria;Proteobacteria;Gammaproteobacteria|IMT2125     |SAMEA2272029|PRJEB51    |GCA_000308975.2|Scaffold|4.75415 |50.7|null     |CAJT01|1        |4266|2012-08-01 00:00:00|ftp://ftp.ncbi.nlm.nih.gov/genomes/all/GCA/000/308/975/GCA_000308975.2_ASM30897v2 |ftp://ftp.ncbi.nlm.nih.gov/genomes/all/GCF/000/308/975/GCF_000308975.1_ASM30897v2 |2             |Third Column    |Escherichia coli 50.7|\n",
            "|Escherichia coli|Bacteria;Proteobacteria;Gammaproteobacteria|NCTC9050    |SAMEA3376907|PRJEB6403  |GCA_900448985.1|Contig  |5.84429 |50.6|null     |UGBX01|4        |5283|2018-07-30 00:00:00|ftp://ftp.ncbi.nlm.nih.gov/genomes/all/GCA/900/448/985/GCA_900448985.1_38490_E02  |ftp://ftp.ncbi.nlm.nih.gov/genomes/all/GCF/900/448/985/GCF_900448985.1_38490_E02  |2             |Third Column    |Escherichia coli 50.6|\n",
            "|Escherichia coli|Bacteria;Proteobacteria;Gammaproteobacteria|NCTC9026    |SAMEA3368324|PRJEB6403  |GCA_900448875.1|Contig  |5.69529 |50.6|null     |UGAL01|2        |5246|2018-07-30 00:00:00|ftp://ftp.ncbi.nlm.nih.gov/genomes/all/GCA/900/448/875/GCA_900448875.1_38389_F01  |ftp://ftp.ncbi.nlm.nih.gov/genomes/all/GCF/900/448/875/GCF_900448875.1_38389_F01  |2             |Third Column    |Escherichia coli 50.6|\n",
            "|Escherichia coli|Bacteria;Proteobacteria;Gammaproteobacteria|FDAARGOS_398|SAMN07312442|PRJNA231221|GCA_002554475.1|Contig  |5.67685 |50.4|null     |PDED01|4        |5210|2017-10-16 00:00:00|ftp://ftp.ncbi.nlm.nih.gov/genomes/all/GCA/002/554/475/GCA_002554475.1_ASM255447v1|ftp://ftp.ncbi.nlm.nih.gov/genomes/all/GCF/002/554/475/GCF_002554475.1_ASM255447v1|2             |Third Column    |Escherichia coli 50.4|\n",
            "|Escherichia coli|Bacteria;Proteobacteria;Gammaproteobacteria|FDAARGOS_399|SAMN07312443|PRJNA231221|GCA_002554675.1|Contig  |5.6334  |50.5|null     |PDEK01|3        |5187|2017-10-16 00:00:00|ftp://ftp.ncbi.nlm.nih.gov/genomes/all/GCA/002/554/675/GCA_002554675.1_ASM255467v1|ftp://ftp.ncbi.nlm.nih.gov/genomes/all/GCF/002/554/675/GCF_002554675.1_ASM255467v1|2             |Third Column    |Escherichia coli 50.5|\n",
            "+----------------+-------------------------------------------+------------+------------+-----------+---------------+--------+--------+----+---------+------+---------+----+-------------------+----------------------------------------------------------------------------------+----------------------------------------------------------------------------------+--------------+----------------+---------------------+\n",
            "only showing top 5 rows\n",
            "\n",
            "+----------------+-------------------------------------------+------------+------------+-----------+---------------+--------+--------+----+---------+------+---------+----+-------------------+----------------------------------------------------------------------------------+----------------------------------------------------------------------------------+---------------------+\n",
            "|#Organism Name  |Organism Groups                            |Strain      |BioSample   |BioProject |Assembly       |Level   |Size(Mb)|GC% |Replicons|WGS   |Scaffolds|CDS |Release Date       |GenBank FTP                                                                       |RefSeq FTP                                                                        |#Organism Name_GC%   |\n",
            "+----------------+-------------------------------------------+------------+------------+-----------+---------------+--------+--------+----+---------+------+---------+----+-------------------+----------------------------------------------------------------------------------+----------------------------------------------------------------------------------+---------------------+\n",
            "|Escherichia coli|Bacteria;Proteobacteria;Gammaproteobacteria|IMT2125     |SAMEA2272029|PRJEB51    |GCA_000308975.2|Scaffold|4.75415 |50.7|null     |CAJT01|1        |4266|2012-08-01 00:00:00|ftp://ftp.ncbi.nlm.nih.gov/genomes/all/GCA/000/308/975/GCA_000308975.2_ASM30897v2 |ftp://ftp.ncbi.nlm.nih.gov/genomes/all/GCF/000/308/975/GCF_000308975.1_ASM30897v2 |Escherichia coli 50.7|\n",
            "|Escherichia coli|Bacteria;Proteobacteria;Gammaproteobacteria|NCTC9050    |SAMEA3376907|PRJEB6403  |GCA_900448985.1|Contig  |5.84429 |50.6|null     |UGBX01|4        |5283|2018-07-30 00:00:00|ftp://ftp.ncbi.nlm.nih.gov/genomes/all/GCA/900/448/985/GCA_900448985.1_38490_E02  |ftp://ftp.ncbi.nlm.nih.gov/genomes/all/GCF/900/448/985/GCF_900448985.1_38490_E02  |Escherichia coli 50.6|\n",
            "|Escherichia coli|Bacteria;Proteobacteria;Gammaproteobacteria|NCTC9026    |SAMEA3368324|PRJEB6403  |GCA_900448875.1|Contig  |5.69529 |50.6|null     |UGAL01|2        |5246|2018-07-30 00:00:00|ftp://ftp.ncbi.nlm.nih.gov/genomes/all/GCA/900/448/875/GCA_900448875.1_38389_F01  |ftp://ftp.ncbi.nlm.nih.gov/genomes/all/GCF/900/448/875/GCF_900448875.1_38389_F01  |Escherichia coli 50.6|\n",
            "|Escherichia coli|Bacteria;Proteobacteria;Gammaproteobacteria|FDAARGOS_398|SAMN07312442|PRJNA231221|GCA_002554475.1|Contig  |5.67685 |50.4|null     |PDED01|4        |5210|2017-10-16 00:00:00|ftp://ftp.ncbi.nlm.nih.gov/genomes/all/GCA/002/554/475/GCA_002554475.1_ASM255447v1|ftp://ftp.ncbi.nlm.nih.gov/genomes/all/GCF/002/554/475/GCF_002554475.1_ASM255447v1|Escherichia coli 50.4|\n",
            "|Escherichia coli|Bacteria;Proteobacteria;Gammaproteobacteria|FDAARGOS_399|SAMN07312443|PRJNA231221|GCA_002554675.1|Contig  |5.6334  |50.5|null     |PDEK01|3        |5187|2017-10-16 00:00:00|ftp://ftp.ncbi.nlm.nih.gov/genomes/all/GCA/002/554/675/GCA_002554675.1_ASM255467v1|ftp://ftp.ncbi.nlm.nih.gov/genomes/all/GCF/002/554/675/GCF_002554675.1_ASM255467v1|Escherichia coli 50.5|\n",
            "+----------------+-------------------------------------------+------------+------------+-----------+---------------+--------+--------+----+---------+------+---------+----+-------------------+----------------------------------------------------------------------------------+----------------------------------------------------------------------------------+---------------------+\n",
            "only showing top 5 rows\n",
            "\n"
          ]
        }
      ]
    },
    {
      "cell_type": "code",
      "source": [
        "total_count = df.count()\n",
        "print(\"TOTAL RECORD COUNT: \" + str(total_count))\n",
        "europe_filtered_count = df.filter(col('Replicons')=='DNA').count()\n",
        "print(\"A replicon is the entire region of DNA that COUNT: \" + str(europe_filtered_count))\n",
        "df.filter(col('Replicons')=='DNA').show(truncate=False)"
      ],
      "metadata": {
        "id": "5HtOQnrizdMg",
        "colab": {
          "base_uri": "https://localhost:8080/"
        },
        "outputId": "74ea5f68-80de-4efc-a6e4-9dc1a8d1b0ce"
      },
      "execution_count": 19,
      "outputs": [
        {
          "output_type": "stream",
          "name": "stdout",
          "text": [
            "TOTAL RECORD COUNT: 24008\n",
            "A replicon is the entire region of DNA that COUNT: 0\n",
            "+--------------+---------------+------+---------+----------+--------+-----+--------+---+---------+---+---------+---+------------+-----------+----------+-------------------+\n",
            "|#Organism Name|Organism Groups|Strain|BioSample|BioProject|Assembly|Level|Size(Mb)|GC%|Replicons|WGS|Scaffolds|CDS|Release Date|GenBank FTP|RefSeq FTP|#Organism Name_GC% |\n",
            "+--------------+---------------+------+---------+----------+--------+-----+--------+---+---------+---+---------+---+------------+-----------+----------+-------------------+\n",
            "+--------------+---------------+------+---------+----------+--------+-----+--------+---+---------+---+---------+---+------------+-----------+----------+-------------------+\n",
            "\n"
          ]
        }
      ]
    },
    {
      "cell_type": "code",
      "source": [
        "df.show(5, truncate = False)"
      ],
      "metadata": {
        "id": "5Zzynb8y1QFh",
        "colab": {
          "base_uri": "https://localhost:8080/"
        },
        "outputId": "bd6d89ed-2f4e-452a-89b5-66554572718d"
      },
      "execution_count": 20,
      "outputs": [
        {
          "output_type": "stream",
          "name": "stdout",
          "text": [
            "+----------------+-------------------------------------------+------------+------------+-----------+---------------+--------+--------+----+---------+------+---------+----+-------------------+----------------------------------------------------------------------------------+----------------------------------------------------------------------------------+---------------------+\n",
            "|#Organism Name  |Organism Groups                            |Strain      |BioSample   |BioProject |Assembly       |Level   |Size(Mb)|GC% |Replicons|WGS   |Scaffolds|CDS |Release Date       |GenBank FTP                                                                       |RefSeq FTP                                                                        |#Organism Name_GC%   |\n",
            "+----------------+-------------------------------------------+------------+------------+-----------+---------------+--------+--------+----+---------+------+---------+----+-------------------+----------------------------------------------------------------------------------+----------------------------------------------------------------------------------+---------------------+\n",
            "|Escherichia coli|Bacteria;Proteobacteria;Gammaproteobacteria|IMT2125     |SAMEA2272029|PRJEB51    |GCA_000308975.2|Scaffold|4.75415 |50.7|null     |CAJT01|1        |4266|2012-08-01 00:00:00|ftp://ftp.ncbi.nlm.nih.gov/genomes/all/GCA/000/308/975/GCA_000308975.2_ASM30897v2 |ftp://ftp.ncbi.nlm.nih.gov/genomes/all/GCF/000/308/975/GCF_000308975.1_ASM30897v2 |Escherichia coli 50.7|\n",
            "|Escherichia coli|Bacteria;Proteobacteria;Gammaproteobacteria|NCTC9050    |SAMEA3376907|PRJEB6403  |GCA_900448985.1|Contig  |5.84429 |50.6|null     |UGBX01|4        |5283|2018-07-30 00:00:00|ftp://ftp.ncbi.nlm.nih.gov/genomes/all/GCA/900/448/985/GCA_900448985.1_38490_E02  |ftp://ftp.ncbi.nlm.nih.gov/genomes/all/GCF/900/448/985/GCF_900448985.1_38490_E02  |Escherichia coli 50.6|\n",
            "|Escherichia coli|Bacteria;Proteobacteria;Gammaproteobacteria|NCTC9026    |SAMEA3368324|PRJEB6403  |GCA_900448875.1|Contig  |5.69529 |50.6|null     |UGAL01|2        |5246|2018-07-30 00:00:00|ftp://ftp.ncbi.nlm.nih.gov/genomes/all/GCA/900/448/875/GCA_900448875.1_38389_F01  |ftp://ftp.ncbi.nlm.nih.gov/genomes/all/GCF/900/448/875/GCF_900448875.1_38389_F01  |Escherichia coli 50.6|\n",
            "|Escherichia coli|Bacteria;Proteobacteria;Gammaproteobacteria|FDAARGOS_398|SAMN07312442|PRJNA231221|GCA_002554475.1|Contig  |5.67685 |50.4|null     |PDED01|4        |5210|2017-10-16 00:00:00|ftp://ftp.ncbi.nlm.nih.gov/genomes/all/GCA/002/554/475/GCA_002554475.1_ASM255447v1|ftp://ftp.ncbi.nlm.nih.gov/genomes/all/GCF/002/554/475/GCF_002554475.1_ASM255447v1|Escherichia coli 50.4|\n",
            "|Escherichia coli|Bacteria;Proteobacteria;Gammaproteobacteria|FDAARGOS_399|SAMN07312443|PRJNA231221|GCA_002554675.1|Contig  |5.6334  |50.5|null     |PDEK01|3        |5187|2017-10-16 00:00:00|ftp://ftp.ncbi.nlm.nih.gov/genomes/all/GCA/002/554/675/GCA_002554675.1_ASM255467v1|ftp://ftp.ncbi.nlm.nih.gov/genomes/all/GCF/002/554/675/GCF_002554675.1_ASM255467v1|Escherichia coli 50.5|\n",
            "+----------------+-------------------------------------------+------------+------------+-----------+---------------+--------+--------+----+---------+------+---------+----+-------------------+----------------------------------------------------------------------------------+----------------------------------------------------------------------------------+---------------------+\n",
            "only showing top 5 rows\n",
            "\n"
          ]
        }
      ]
    }
  ]
}